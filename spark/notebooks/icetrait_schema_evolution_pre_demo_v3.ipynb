{
 "cells": [
  {
   "cell_type": "markdown",
   "id": "a2741cdc",
   "metadata": {},
   "source": [
    "# Substrait as a Query Engine for Apache Iceberg [Experimental]\n",
    "\n",
    "The abstraction provided by Substrait can be used to execute your query in many query engines. There are two aspects to Substrait. One is a as producer it produces Substrait plans from SQL queries based on data accessible for a query engine. Duckdb and Ibis can be considered as Substrait producers. The other one is consuming Substrait plans. DuckDb can be considered as one such prominent Substrait consumers. \n",
    "\n",
    "## Why Schema Evolution support via Substrait?\n",
    "\n",
    "Supporting schema evolution not a very straightforward task. Apache Iceberg is one such framework which provides this capability to the user by supporting a set of existing query engines. \n",
    "\n",
    "If your query engine is not one of them, you will have to implement this from scratch. To breach this gap, we propose a Substrait-based solution which would do the ground work to execute queries in your engine with schema evolution support. \n",
    "\n",
    "### Limitations:\n",
    "\n",
    "1. Your query engine must support Substrait.\n",
    "2. Python-based solution\n",
    "\n",
    "We have developed a prototype to enable Schema evolution support via Substrait. Once this module is used, your query engine can run queries enabling schema evolution. \n",
    "\n",
    "**Warning**\n",
    "\n",
    "This module is experimental.\n",
    "\n",
    "## Demo Objectives\n",
    "\n",
    "Demonstrate Schema Evolution scenarios using the experimental module we have developed and use Apache Spark to validate the results. \n",
    "\n",
    "## Why Apache Spark?\n",
    "\n",
    "Apache Iceberg supports a few query engines, Apache Spark is one of those query engines. \n",
    "We will be using Apache Spark as the go to engine to write the dataset in Apache Iceberg format. Furthermore, we will use Apache Spark to validate the results generated from our module."
   ]
  },
  {
   "cell_type": "markdown",
   "id": "f5a3314d",
   "metadata": {},
   "source": [
    "## Duckdb as a Query Engine"
   ]
  },
  {
   "cell_type": "markdown",
   "id": "74acabd4",
   "metadata": {},
   "source": [
    "### Installing Experimental Module\n",
    "\n",
    "We are installing the `icetrait` Python library from a experimental branch."
   ]
  },
  {
   "cell_type": "code",
   "execution_count": 98,
   "id": "da9b46e4",
   "metadata": {
    "scrolled": true
   },
   "outputs": [
    {
     "name": "stdout",
     "output_type": "stream",
     "text": [
      "Collecting icetrait\n",
      "  Cloning https://github.com/vibhatha/pyiceberg_substrait (to revision feat-schema-evolution-s1) to /tmp/pip-install-wucc5doe/icetrait_e0aaa0715eda4e7080a3a253b407ba36\n",
      "  Running command git clone --filter=blob:none --quiet https://github.com/vibhatha/pyiceberg_substrait /tmp/pip-install-wucc5doe/icetrait_e0aaa0715eda4e7080a3a253b407ba36\n",
      "  Running command git checkout -b feat-schema-evolution-s1 --track origin/feat-schema-evolution-s1\n",
      "  Switched to a new branch 'feat-schema-evolution-s1'\n",
      "  Branch 'feat-schema-evolution-s1' set up to track remote branch 'feat-schema-evolution-s1' from 'origin'.\n",
      "  Resolved https://github.com/vibhatha/pyiceberg_substrait to commit 8e61be62f1b70aa74b748487fa743ac652cfaaa9\n",
      "  Running command git submodule update --init --recursive -q\n",
      "  Installing build dependencies ... \u001b[?25ldone\n",
      "\u001b[?25h  Getting requirements to build wheel ... \u001b[?25ldone\n",
      "\u001b[?25h  Installing backend dependencies ... \u001b[?25ldone\n",
      "\u001b[?25h  Preparing metadata (pyproject.toml) ... \u001b[?25ldone\n",
      "\u001b[?25hRequirement already satisfied: pyiceberg>=0.3.0 in /usr/local/lib/python3.9/site-packages (from icetrait) (0.3.0)\n",
      "Requirement already satisfied: duckdb>=0.7.1 in /usr/local/lib/python3.9/site-packages (from icetrait) (0.7.1)\n",
      "Requirement already satisfied: protobuf>=3.20 in /usr/local/lib/python3.9/site-packages (from icetrait) (3.20.1)\n",
      "Requirement already satisfied: pyarrow>=10.0.1 in /usr/local/lib/python3.9/site-packages (from icetrait) (10.0.1)\n",
      "Requirement already satisfied: sqlparse>=0.4.4 in /usr/local/lib/python3.9/site-packages (from icetrait) (0.4.4)\n",
      "Requirement already satisfied: numpy>=1.16.6 in /usr/local/lib/python3.9/site-packages (from pyarrow>=10.0.1->icetrait) (1.24.3)\n",
      "Requirement already satisfied: fsspec==2023.1.0 in /usr/local/lib/python3.9/site-packages (from pyiceberg>=0.3.0->icetrait) (2023.1.0)\n",
      "Requirement already satisfied: pyparsing==3.0.9 in /usr/local/lib/python3.9/site-packages (from pyiceberg>=0.3.0->icetrait) (3.0.9)\n",
      "Requirement already satisfied: mmhash3==3.0.1 in /usr/local/lib/python3.9/site-packages (from pyiceberg>=0.3.0->icetrait) (3.0.1)\n",
      "Requirement already satisfied: pydantic==1.10.4 in /usr/local/lib/python3.9/site-packages (from pyiceberg>=0.3.0->icetrait) (1.10.4)\n",
      "Requirement already satisfied: requests==2.28.2 in /usr/local/lib/python3.9/site-packages (from pyiceberg>=0.3.0->icetrait) (2.28.2)\n",
      "Requirement already satisfied: pyyaml==6.0.0 in /usr/local/lib/python3.9/site-packages (from pyiceberg>=0.3.0->icetrait) (6.0)\n",
      "Requirement already satisfied: rich==13.2.0 in /usr/local/lib/python3.9/site-packages (from pyiceberg>=0.3.0->icetrait) (13.2.0)\n",
      "Requirement already satisfied: zstandard==0.19.0 in /usr/local/lib/python3.9/site-packages (from pyiceberg>=0.3.0->icetrait) (0.19.0)\n",
      "Requirement already satisfied: click==8.1.3 in /usr/local/lib/python3.9/site-packages (from pyiceberg>=0.3.0->icetrait) (8.1.3)\n",
      "Requirement already satisfied: typing-extensions>=4.2.0 in /usr/local/lib/python3.9/site-packages (from pydantic==1.10.4->pyiceberg>=0.3.0->icetrait) (4.5.0)\n",
      "Requirement already satisfied: certifi>=2017.4.17 in /usr/local/lib/python3.9/site-packages (from requests==2.28.2->pyiceberg>=0.3.0->icetrait) (2023.5.7)\n",
      "Requirement already satisfied: urllib3<1.27,>=1.21.1 in /usr/local/lib/python3.9/site-packages (from requests==2.28.2->pyiceberg>=0.3.0->icetrait) (1.26.15)\n",
      "Requirement already satisfied: idna<4,>=2.5 in /usr/local/lib/python3.9/site-packages (from requests==2.28.2->pyiceberg>=0.3.0->icetrait) (3.4)\n",
      "Requirement already satisfied: charset-normalizer<4,>=2 in /usr/local/lib/python3.9/site-packages (from requests==2.28.2->pyiceberg>=0.3.0->icetrait) (3.1.0)\n",
      "Requirement already satisfied: markdown-it-py<3.0.0,>=2.1.0 in /usr/local/lib/python3.9/site-packages (from rich==13.2.0->pyiceberg>=0.3.0->icetrait) (2.2.0)\n",
      "Requirement already satisfied: pygments<3.0.0,>=2.6.0 in /usr/local/lib/python3.9/site-packages (from rich==13.2.0->pyiceberg>=0.3.0->icetrait) (2.15.1)\n",
      "Requirement already satisfied: mdurl~=0.1 in /usr/local/lib/python3.9/site-packages (from markdown-it-py<3.0.0,>=2.1.0->rich==13.2.0->pyiceberg>=0.3.0->icetrait) (0.1.2)\n",
      "Building wheels for collected packages: icetrait\n",
      "  Building wheel for icetrait (pyproject.toml) ... \u001b[?25ldone\n",
      "\u001b[?25h  Created wheel for icetrait: filename=icetrait-0.1.dev100+g8e61be6.d20230527-py3-none-any.whl size=17972 sha256=212008bf96fb550d67c9c0d8ac8e0e5a95728826df0297bff33494e3481eab8e\n",
      "  Stored in directory: /tmp/pip-ephem-wheel-cache-31tlvu9m/wheels/8e/cd/16/abf0e472534fbf163df862e29f6626f2fb1a1b3a1d2449122f\n",
      "Successfully built icetrait\n",
      "Installing collected packages: icetrait\n",
      "  Attempting uninstall: icetrait\n",
      "    Found existing installation: icetrait 0.1.dev99+g09b6c22.d20230527\n",
      "    Uninstalling icetrait-0.1.dev99+g09b6c22.d20230527:\n",
      "      Successfully uninstalled icetrait-0.1.dev99+g09b6c22.d20230527\n",
      "Successfully installed icetrait-0.1.dev100+g8e61be6.d20230527\n",
      "\u001b[33mWARNING: Running pip as the 'root' user can result in broken permissions and conflicting behaviour with the system package manager. It is recommended to use a virtual environment instead: https://pip.pypa.io/warnings/venv\u001b[0m\u001b[33m\n",
      "\u001b[0m\u001b[33mWARNING: You are using pip version 22.0.4; however, version 23.1.2 is available.\n",
      "You should consider upgrading via the '/usr/local/bin/python -m pip install --upgrade pip' command.\u001b[0m\u001b[33m\n",
      "\u001b[0m"
     ]
    }
   ],
   "source": [
    "!pip install git+https://github.com/vibhatha/pyiceberg_substrait@feat-schema-evolution-s1#egg=icetrait"
   ]
  },
  {
   "cell_type": "markdown",
   "id": "07f108a5",
   "metadata": {},
   "source": [
    "**Disable logging**"
   ]
  },
  {
   "cell_type": "code",
   "execution_count": 1,
   "id": "a59018b3",
   "metadata": {},
   "outputs": [],
   "source": [
    "import os\n",
    "os.environ['ICETRAIT_LOG_DIR'] = '/home/iceberg/notebooks/icetrait_logs'\n",
    "os.getenv(\"ICETRAIT_LOG_DIR\")\n",
    "os.environ['ICETRAIT_LOGGING'] = 'DISABLE'"
   ]
  },
  {
   "cell_type": "markdown",
   "id": "c781f4da",
   "metadata": {},
   "source": [
    "### Warning\n",
    "\n",
    "Make sure to **restart the kernel** after installation"
   ]
  },
  {
   "cell_type": "code",
   "execution_count": 2,
   "id": "bfc0eb7c",
   "metadata": {},
   "outputs": [],
   "source": [
    "from icetrait.substrait.visitor import SubstraitPlanEditor, visit_and_update, RelVisitor, RelUpdateVisitor\n",
    "from icetrait.duckdb.wrapper import DuckdbSubstrait\n",
    "import duckdb"
   ]
  },
  {
   "cell_type": "markdown",
   "id": "978bdbf5",
   "metadata": {},
   "source": [
    "## Initialize Spark Environment\n",
    "\n",
    "We will be using Apache Spark as the tool to save data in Apache Iceberg Format. Also we will be using Apache Spark to validate our results. Please note that Apache Iceberg supports Apache Spark. "
   ]
  },
  {
   "cell_type": "code",
   "execution_count": 3,
   "id": "f046e894",
   "metadata": {},
   "outputs": [
    {
     "name": "stdout",
     "output_type": "stream",
     "text": [
      "23/05/27 02:09:12 WARN SparkSession: Using an existing Spark session; only runtime SQL configurations will take effect.\n"
     ]
    },
    {
     "data": {
      "text/html": [
       "\n",
       "            <div>\n",
       "                <p><b>SparkSession - in-memory</b></p>\n",
       "                \n",
       "        <div>\n",
       "            <p><b>SparkContext</b></p>\n",
       "\n",
       "            <p><a href=\"http://cb164738470c:4041\">Spark UI</a></p>\n",
       "\n",
       "            <dl>\n",
       "              <dt>Version</dt>\n",
       "                <dd><code>v3.3.2</code></dd>\n",
       "              <dt>Master</dt>\n",
       "                <dd><code>local[*]</code></dd>\n",
       "              <dt>AppName</dt>\n",
       "                <dd><code>PySparkShell</code></dd>\n",
       "            </dl>\n",
       "        </div>\n",
       "        \n",
       "            </div>\n",
       "        "
      ],
      "text/plain": [
       "<pyspark.sql.session.SparkSession at 0x7fde8c8e59a0>"
      ]
     },
     "execution_count": 3,
     "metadata": {},
     "output_type": "execute_result"
    }
   ],
   "source": [
    "import findspark\n",
    "findspark.init()\n",
    "\n",
    "from pyspark.sql import SparkSession\n",
    "\n",
    "spark = (\n",
    "    SparkSession.builder.master(\"local\")\n",
    "    .appName(\"IcebergPySpark\")\n",
    "    .config(\"spark.sql.extensions\", \"org.apache.iceberg.spark.extensions.IcebergSparkSessionExtensions\")\n",
    "    .config(\"spark.sql.catalog.demo\", \"org.apache.iceberg.spark.SparkCatalog\")\n",
    "    .config(\"spark.sql.catalog.demo.catalog-impl\", \"org.apache.iceberg.rest.RESTCatalog\")\n",
    "    .config(\"spark.sql.catalog.demo.uri\", \"http://rest:8181\")\n",
    "    .config(\"spark.sql.catalog.demo.s3.endpoint\", \"http://minio:9000\")\n",
    "    .config(\"spark.sql.defaultCatalog\", \"demo\")\n",
    "    .config(\"spark.eventLog.enabled\", \"true\")\n",
    "    .config(\"spark.eventLog.dir\", \"/home/iceberg/spark-events\")\n",
    "    .config(\"spark.history.fs.logDirectory\", \"/home/iceberg/spark-events\")\n",
    "    .config(\"spark.sql.catalogImplementation\", \"/home/iceberg/spark-events\")\n",
    "    .getOrCreate()\n",
    ")\n",
    "spark"
   ]
  },
  {
   "cell_type": "markdown",
   "id": "cdbfca05",
   "metadata": {},
   "source": [
    "### Writing Data in Apache Iceberg Format\n",
    "\n",
    "First, let’s write some data in Apache Iceberg format using Apache Spark. We will be using NYC Taxi driver dataset. \n",
    "\n",
    "Drop if there is an existing table and start from scratch. "
   ]
  },
  {
   "cell_type": "code",
   "execution_count": 4,
   "id": "01438ea2",
   "metadata": {},
   "outputs": [
    {
     "name": "stdout",
     "output_type": "stream",
     "text": [
      "23/05/27 02:09:15 WARN SparkSession: Using an existing Spark session; only runtime SQL configurations will take effect.\n"
     ]
    },
    {
     "data": {
      "text/html": [
       "<table>\n",
       "    <tr>\n",
       "    </tr>\n",
       "</table>"
      ],
      "text/plain": [
       "++\n",
       "||\n",
       "++\n",
       "++"
      ]
     },
     "execution_count": 4,
     "metadata": {},
     "output_type": "execute_result"
    }
   ],
   "source": [
    "%%sql\n",
    "\n",
    "DROP TABLE IF EXISTS nyc_demo.taxis_sample;"
   ]
  },
  {
   "cell_type": "code",
   "execution_count": 5,
   "id": "495acc2a",
   "metadata": {},
   "outputs": [
    {
     "name": "stdout",
     "output_type": "stream",
     "text": [
      "23/05/27 02:09:17 WARN SparkSession: Using an existing Spark session; only runtime SQL configurations will take effect.\n"
     ]
    },
    {
     "data": {
      "text/html": [
       "<table>\n",
       "    <tr>\n",
       "    </tr>\n",
       "</table>"
      ],
      "text/plain": [
       "++\n",
       "||\n",
       "++\n",
       "++"
      ]
     },
     "execution_count": 5,
     "metadata": {},
     "output_type": "execute_result"
    }
   ],
   "source": [
    "%%sql\n",
    "\n",
    "CREATE DATABASE IF NOT EXISTS nyc_demo;"
   ]
  },
  {
   "cell_type": "code",
   "execution_count": 6,
   "id": "634298f0",
   "metadata": {},
   "outputs": [
    {
     "name": "stdout",
     "output_type": "stream",
     "text": [
      "23/05/27 02:09:17 WARN SparkSession: Using an existing Spark session; only runtime SQL configurations will take effect.\n"
     ]
    },
    {
     "data": {
      "text/html": [
       "<table>\n",
       "    <tr>\n",
       "        <th>namespace</th>\n",
       "    </tr>\n",
       "    <tr>\n",
       "        <td>nyc_demo</td>\n",
       "    </tr>\n",
       "</table>"
      ],
      "text/plain": [
       "+-----------+\n",
       "| namespace |\n",
       "+-----------+\n",
       "|  nyc_demo |\n",
       "+-----------+"
      ]
     },
     "execution_count": 6,
     "metadata": {},
     "output_type": "execute_result"
    }
   ],
   "source": [
    "%%sql\n",
    "\n",
    "show databases;"
   ]
  },
  {
   "cell_type": "code",
   "execution_count": 7,
   "id": "b9988de8",
   "metadata": {},
   "outputs": [
    {
     "name": "stderr",
     "output_type": "stream",
     "text": [
      "SLF4J: Failed to load class \"org.slf4j.impl.StaticLoggerBinder\".\n",
      "SLF4J: Defaulting to no-operation (NOP) logger implementation\n",
      "SLF4J: See http://www.slf4j.org/codes.html#StaticLoggerBinder for further details.\n",
      "                                                                                \r"
     ]
    }
   ],
   "source": [
    "df = spark.read.parquet(\"/home/iceberg/data/yellow_tripdata_2021-04.parquet\")\n",
    "df_small = df.limit(500)\n",
    "df_small = df.select(['VendorID',\n",
    " 'passenger_count',\n",
    " 'trip_distance',\n",
    " 'RatecodeID',\n",
    " 'store_and_fwd_flag',\n",
    " 'PULocationID',\n",
    " 'DOLocationID',\n",
    " 'payment_type',\n",
    " 'fare_amount',\n",
    " 'extra',\n",
    " 'mta_tax',\n",
    " 'tip_amount',\n",
    " 'tolls_amount',\n",
    " 'improvement_surcharge',\n",
    " 'total_amount',\n",
    " 'congestion_surcharge',\n",
    " 'airport_fee'])\n",
    "df_small.write.saveAsTable(\"nyc_demo.taxis_sample\")"
   ]
  },
  {
   "cell_type": "markdown",
   "id": "0b445cad",
   "metadata": {},
   "source": [
    "## Simulating a Simple Query"
   ]
  },
  {
   "cell_type": "code",
   "execution_count": 8,
   "id": "cc85f33c",
   "metadata": {},
   "outputs": [
    {
     "name": "stderr",
     "output_type": "stream",
     "text": [
      "                                                                                \r"
     ]
    }
   ],
   "source": [
    "spark_s_query = \"SELECT * FROM nyc_demo.taxis_sample;\"\n",
    "df_sql = spark.sql(spark_s_query)\n",
    "spark_s_df = df_sql.toPandas()"
   ]
  },
  {
   "cell_type": "code",
   "execution_count": 9,
   "id": "e11dac47",
   "metadata": {},
   "outputs": [
    {
     "data": {
      "text/html": [
       "<div>\n",
       "<style scoped>\n",
       "    .dataframe tbody tr th:only-of-type {\n",
       "        vertical-align: middle;\n",
       "    }\n",
       "\n",
       "    .dataframe tbody tr th {\n",
       "        vertical-align: top;\n",
       "    }\n",
       "\n",
       "    .dataframe thead th {\n",
       "        text-align: right;\n",
       "    }\n",
       "</style>\n",
       "<table border=\"1\" class=\"dataframe\">\n",
       "  <thead>\n",
       "    <tr style=\"text-align: right;\">\n",
       "      <th></th>\n",
       "      <th>VendorID</th>\n",
       "      <th>passenger_count</th>\n",
       "      <th>trip_distance</th>\n",
       "      <th>RatecodeID</th>\n",
       "      <th>store_and_fwd_flag</th>\n",
       "      <th>PULocationID</th>\n",
       "      <th>DOLocationID</th>\n",
       "      <th>payment_type</th>\n",
       "      <th>fare_amount</th>\n",
       "      <th>extra</th>\n",
       "      <th>mta_tax</th>\n",
       "      <th>tip_amount</th>\n",
       "      <th>tolls_amount</th>\n",
       "      <th>improvement_surcharge</th>\n",
       "      <th>total_amount</th>\n",
       "      <th>congestion_surcharge</th>\n",
       "      <th>airport_fee</th>\n",
       "    </tr>\n",
       "  </thead>\n",
       "  <tbody>\n",
       "    <tr>\n",
       "      <th>0</th>\n",
       "      <td>1</td>\n",
       "      <td>1.0</td>\n",
       "      <td>8.40</td>\n",
       "      <td>1.0</td>\n",
       "      <td>N</td>\n",
       "      <td>79</td>\n",
       "      <td>116</td>\n",
       "      <td>1</td>\n",
       "      <td>25.5</td>\n",
       "      <td>3.0</td>\n",
       "      <td>0.5</td>\n",
       "      <td>5.85</td>\n",
       "      <td>0.0</td>\n",
       "      <td>0.3</td>\n",
       "      <td>35.15</td>\n",
       "      <td>2.5</td>\n",
       "      <td>0.0</td>\n",
       "    </tr>\n",
       "    <tr>\n",
       "      <th>1</th>\n",
       "      <td>1</td>\n",
       "      <td>1.0</td>\n",
       "      <td>0.90</td>\n",
       "      <td>1.0</td>\n",
       "      <td>N</td>\n",
       "      <td>75</td>\n",
       "      <td>236</td>\n",
       "      <td>2</td>\n",
       "      <td>5.0</td>\n",
       "      <td>3.0</td>\n",
       "      <td>0.5</td>\n",
       "      <td>0.00</td>\n",
       "      <td>0.0</td>\n",
       "      <td>0.3</td>\n",
       "      <td>8.80</td>\n",
       "      <td>2.5</td>\n",
       "      <td>0.0</td>\n",
       "    </tr>\n",
       "    <tr>\n",
       "      <th>2</th>\n",
       "      <td>1</td>\n",
       "      <td>1.0</td>\n",
       "      <td>3.40</td>\n",
       "      <td>1.0</td>\n",
       "      <td>N</td>\n",
       "      <td>236</td>\n",
       "      <td>168</td>\n",
       "      <td>2</td>\n",
       "      <td>11.5</td>\n",
       "      <td>3.0</td>\n",
       "      <td>0.5</td>\n",
       "      <td>0.00</td>\n",
       "      <td>0.0</td>\n",
       "      <td>0.3</td>\n",
       "      <td>15.30</td>\n",
       "      <td>2.5</td>\n",
       "      <td>0.0</td>\n",
       "    </tr>\n",
       "    <tr>\n",
       "      <th>3</th>\n",
       "      <td>1</td>\n",
       "      <td>1.0</td>\n",
       "      <td>0.00</td>\n",
       "      <td>1.0</td>\n",
       "      <td>N</td>\n",
       "      <td>47</td>\n",
       "      <td>61</td>\n",
       "      <td>1</td>\n",
       "      <td>44.2</td>\n",
       "      <td>0.0</td>\n",
       "      <td>0.5</td>\n",
       "      <td>0.00</td>\n",
       "      <td>0.0</td>\n",
       "      <td>0.3</td>\n",
       "      <td>45.00</td>\n",
       "      <td>0.0</td>\n",
       "      <td>0.0</td>\n",
       "    </tr>\n",
       "    <tr>\n",
       "      <th>4</th>\n",
       "      <td>2</td>\n",
       "      <td>1.0</td>\n",
       "      <td>1.96</td>\n",
       "      <td>1.0</td>\n",
       "      <td>N</td>\n",
       "      <td>238</td>\n",
       "      <td>152</td>\n",
       "      <td>1</td>\n",
       "      <td>9.0</td>\n",
       "      <td>0.5</td>\n",
       "      <td>0.5</td>\n",
       "      <td>3.09</td>\n",
       "      <td>0.0</td>\n",
       "      <td>0.3</td>\n",
       "      <td>13.39</td>\n",
       "      <td>0.0</td>\n",
       "      <td>0.0</td>\n",
       "    </tr>\n",
       "  </tbody>\n",
       "</table>\n",
       "</div>"
      ],
      "text/plain": [
       "   VendorID  passenger_count  trip_distance  RatecodeID store_and_fwd_flag  \\\n",
       "0         1              1.0           8.40         1.0                  N   \n",
       "1         1              1.0           0.90         1.0                  N   \n",
       "2         1              1.0           3.40         1.0                  N   \n",
       "3         1              1.0           0.00         1.0                  N   \n",
       "4         2              1.0           1.96         1.0                  N   \n",
       "\n",
       "   PULocationID  DOLocationID  payment_type  fare_amount  extra  mta_tax  \\\n",
       "0            79           116             1         25.5    3.0      0.5   \n",
       "1            75           236             2          5.0    3.0      0.5   \n",
       "2           236           168             2         11.5    3.0      0.5   \n",
       "3            47            61             1         44.2    0.0      0.5   \n",
       "4           238           152             1          9.0    0.5      0.5   \n",
       "\n",
       "   tip_amount  tolls_amount  improvement_surcharge  total_amount  \\\n",
       "0        5.85           0.0                    0.3         35.15   \n",
       "1        0.00           0.0                    0.3          8.80   \n",
       "2        0.00           0.0                    0.3         15.30   \n",
       "3        0.00           0.0                    0.3         45.00   \n",
       "4        3.09           0.0                    0.3         13.39   \n",
       "\n",
       "   congestion_surcharge  airport_fee  \n",
       "0                   2.5          0.0  \n",
       "1                   2.5          0.0  \n",
       "2                   2.5          0.0  \n",
       "3                   0.0          0.0  \n",
       "4                   0.0          0.0  "
      ]
     },
     "execution_count": 9,
     "metadata": {},
     "output_type": "execute_result"
    }
   ],
   "source": [
    "spark_s_df.head()"
   ]
  },
  {
   "cell_type": "code",
   "execution_count": 10,
   "id": "02fdb92b",
   "metadata": {},
   "outputs": [],
   "source": [
    "\"\"\"\n",
    "We expect the user to pass the evolved schema.\n",
    "\"\"\"\n",
    "## TODO: I think we can probably keep a single connection and use the update query to Spark applied on\n",
    "## the duckdb connector and update the table.\n",
    "def setup_duckdb():\n",
    "    con = duckdb.connect()\n",
    "    create_schema = \"CREATE SCHEMA nyc_demo;\"\n",
    "    creation_query = \"\"\"\n",
    "    CREATE TABLE nyc_demo.taxis_sample (\n",
    "        VendorID              bigint,\n",
    "        passenger_count       double,\n",
    "        trip_distance         double,\n",
    "        RatecodeID            double,\n",
    "        store_and_fwd_flag    string,\n",
    "        PULocationID          bigint,\n",
    "        DOLocationID          bigint,\n",
    "        payment_type          bigint,\n",
    "        fare_amount           double,\n",
    "        extra                 double,\n",
    "        mta_tax               double,\n",
    "        tip_amount            double,\n",
    "        tolls_amount          double,\n",
    "        improvement_surcharge double,\n",
    "        total_amount          double,\n",
    "        congestion_surcharge  double,\n",
    "        airport_fee           double\n",
    "    );\n",
    "    \"\"\"\n",
    "    con.execute(create_schema)\n",
    "    con.execute(creation_query)\n",
    "    return con"
   ]
  },
  {
   "cell_type": "code",
   "execution_count": 11,
   "id": "60c35c78",
   "metadata": {},
   "outputs": [],
   "source": [
    "q1 = \"SELECT * FROM nyc_demo.taxis_sample;\""
   ]
  },
  {
   "cell_type": "code",
   "execution_count": 12,
   "id": "968149e5",
   "metadata": {},
   "outputs": [
    {
     "name": "stdout",
     "output_type": "stream",
     "text": [
      "mkdir: cannot create directory ‘/home/iceberg/notebooks/s3’: File exists\r\n"
     ]
    }
   ],
   "source": [
    "!mkdir /home/iceberg/notebooks/s3"
   ]
  },
  {
   "cell_type": "code",
   "execution_count": 13,
   "id": "f9ca98f9",
   "metadata": {},
   "outputs": [],
   "source": [
    "wrapper = DuckdbSubstrait(\"default\", \"/home/iceberg/notebooks/s3\", \"nyc_demo\", q1, setup_duckdb)\n",
    "wrapper.update_named_table_with_schema()\n",
    "wrapper.update_with_local_file_paths()"
   ]
  },
  {
   "cell_type": "code",
   "execution_count": 14,
   "id": "cdaa64cc",
   "metadata": {},
   "outputs": [],
   "source": [
    "duckdb_res = wrapper.execute()"
   ]
  },
  {
   "cell_type": "code",
   "execution_count": 15,
   "id": "afc972a3",
   "metadata": {},
   "outputs": [
    {
     "data": {
      "text/html": [
       "<div>\n",
       "<style scoped>\n",
       "    .dataframe tbody tr th:only-of-type {\n",
       "        vertical-align: middle;\n",
       "    }\n",
       "\n",
       "    .dataframe tbody tr th {\n",
       "        vertical-align: top;\n",
       "    }\n",
       "\n",
       "    .dataframe thead th {\n",
       "        text-align: right;\n",
       "    }\n",
       "</style>\n",
       "<table border=\"1\" class=\"dataframe\">\n",
       "  <thead>\n",
       "    <tr style=\"text-align: right;\">\n",
       "      <th></th>\n",
       "      <th>VendorID</th>\n",
       "      <th>passenger_count</th>\n",
       "      <th>trip_distance</th>\n",
       "      <th>RatecodeID</th>\n",
       "      <th>store_and_fwd_flag</th>\n",
       "      <th>PULocationID</th>\n",
       "      <th>DOLocationID</th>\n",
       "      <th>payment_type</th>\n",
       "      <th>fare_amount</th>\n",
       "      <th>extra</th>\n",
       "      <th>mta_tax</th>\n",
       "      <th>tip_amount</th>\n",
       "      <th>tolls_amount</th>\n",
       "      <th>improvement_surcharge</th>\n",
       "      <th>total_amount</th>\n",
       "      <th>congestion_surcharge</th>\n",
       "      <th>airport_fee</th>\n",
       "    </tr>\n",
       "  </thead>\n",
       "  <tbody>\n",
       "    <tr>\n",
       "      <th>0</th>\n",
       "      <td>1</td>\n",
       "      <td>1.0</td>\n",
       "      <td>8.40</td>\n",
       "      <td>1.0</td>\n",
       "      <td>N</td>\n",
       "      <td>79</td>\n",
       "      <td>116</td>\n",
       "      <td>1</td>\n",
       "      <td>25.5</td>\n",
       "      <td>3.0</td>\n",
       "      <td>0.5</td>\n",
       "      <td>5.85</td>\n",
       "      <td>0.0</td>\n",
       "      <td>0.3</td>\n",
       "      <td>35.15</td>\n",
       "      <td>2.5</td>\n",
       "      <td>0.0</td>\n",
       "    </tr>\n",
       "    <tr>\n",
       "      <th>1</th>\n",
       "      <td>1</td>\n",
       "      <td>1.0</td>\n",
       "      <td>0.90</td>\n",
       "      <td>1.0</td>\n",
       "      <td>N</td>\n",
       "      <td>75</td>\n",
       "      <td>236</td>\n",
       "      <td>2</td>\n",
       "      <td>5.0</td>\n",
       "      <td>3.0</td>\n",
       "      <td>0.5</td>\n",
       "      <td>0.00</td>\n",
       "      <td>0.0</td>\n",
       "      <td>0.3</td>\n",
       "      <td>8.80</td>\n",
       "      <td>2.5</td>\n",
       "      <td>0.0</td>\n",
       "    </tr>\n",
       "    <tr>\n",
       "      <th>2</th>\n",
       "      <td>1</td>\n",
       "      <td>1.0</td>\n",
       "      <td>3.40</td>\n",
       "      <td>1.0</td>\n",
       "      <td>N</td>\n",
       "      <td>236</td>\n",
       "      <td>168</td>\n",
       "      <td>2</td>\n",
       "      <td>11.5</td>\n",
       "      <td>3.0</td>\n",
       "      <td>0.5</td>\n",
       "      <td>0.00</td>\n",
       "      <td>0.0</td>\n",
       "      <td>0.3</td>\n",
       "      <td>15.30</td>\n",
       "      <td>2.5</td>\n",
       "      <td>0.0</td>\n",
       "    </tr>\n",
       "    <tr>\n",
       "      <th>3</th>\n",
       "      <td>1</td>\n",
       "      <td>1.0</td>\n",
       "      <td>0.00</td>\n",
       "      <td>1.0</td>\n",
       "      <td>N</td>\n",
       "      <td>47</td>\n",
       "      <td>61</td>\n",
       "      <td>1</td>\n",
       "      <td>44.2</td>\n",
       "      <td>0.0</td>\n",
       "      <td>0.5</td>\n",
       "      <td>0.00</td>\n",
       "      <td>0.0</td>\n",
       "      <td>0.3</td>\n",
       "      <td>45.00</td>\n",
       "      <td>0.0</td>\n",
       "      <td>0.0</td>\n",
       "    </tr>\n",
       "    <tr>\n",
       "      <th>4</th>\n",
       "      <td>2</td>\n",
       "      <td>1.0</td>\n",
       "      <td>1.96</td>\n",
       "      <td>1.0</td>\n",
       "      <td>N</td>\n",
       "      <td>238</td>\n",
       "      <td>152</td>\n",
       "      <td>1</td>\n",
       "      <td>9.0</td>\n",
       "      <td>0.5</td>\n",
       "      <td>0.5</td>\n",
       "      <td>3.09</td>\n",
       "      <td>0.0</td>\n",
       "      <td>0.3</td>\n",
       "      <td>13.39</td>\n",
       "      <td>0.0</td>\n",
       "      <td>0.0</td>\n",
       "    </tr>\n",
       "  </tbody>\n",
       "</table>\n",
       "</div>"
      ],
      "text/plain": [
       "   VendorID  passenger_count  trip_distance  RatecodeID store_and_fwd_flag  \\\n",
       "0         1              1.0           8.40         1.0                  N   \n",
       "1         1              1.0           0.90         1.0                  N   \n",
       "2         1              1.0           3.40         1.0                  N   \n",
       "3         1              1.0           0.00         1.0                  N   \n",
       "4         2              1.0           1.96         1.0                  N   \n",
       "\n",
       "   PULocationID  DOLocationID  payment_type  fare_amount  extra  mta_tax  \\\n",
       "0            79           116             1         25.5    3.0      0.5   \n",
       "1            75           236             2          5.0    3.0      0.5   \n",
       "2           236           168             2         11.5    3.0      0.5   \n",
       "3            47            61             1         44.2    0.0      0.5   \n",
       "4           238           152             1          9.0    0.5      0.5   \n",
       "\n",
       "   tip_amount  tolls_amount  improvement_surcharge  total_amount  \\\n",
       "0        5.85           0.0                    0.3         35.15   \n",
       "1        0.00           0.0                    0.3          8.80   \n",
       "2        0.00           0.0                    0.3         15.30   \n",
       "3        0.00           0.0                    0.3         45.00   \n",
       "4        3.09           0.0                    0.3         13.39   \n",
       "\n",
       "   congestion_surcharge  airport_fee  \n",
       "0                   2.5          0.0  \n",
       "1                   2.5          0.0  \n",
       "2                   2.5          0.0  \n",
       "3                   0.0          0.0  \n",
       "4                   0.0          0.0  "
      ]
     },
     "execution_count": 15,
     "metadata": {},
     "output_type": "execute_result"
    }
   ],
   "source": [
    "df_duckdb_substrait = duckdb_res.to_df()\n",
    "df_duckdb_substrait.head()"
   ]
  },
  {
   "cell_type": "code",
   "execution_count": 17,
   "id": "0a1ace42",
   "metadata": {},
   "outputs": [],
   "source": [
    "assert spark_s_df.equals(df_duckdb_substrait)"
   ]
  },
  {
   "cell_type": "markdown",
   "id": "77bede63",
   "metadata": {},
   "source": [
    "## Simulating Schema Evolution for Rename Operation\n",
    "\n",
    "We **rename** the field **`fare_amount`** to **`fare`**. "
   ]
  },
  {
   "cell_type": "code",
   "execution_count": 18,
   "id": "01e0a2fb",
   "metadata": {},
   "outputs": [
    {
     "name": "stdout",
     "output_type": "stream",
     "text": [
      "23/05/27 02:10:07 WARN SparkSession: Using an existing Spark session; only runtime SQL configurations will take effect.\n",
      "23/05/27 02:10:07 WARN BaseTransaction: Failed to load metadata for a committed snapshot, skipping clean-up\n"
     ]
    },
    {
     "data": {
      "text/html": [
       "<table>\n",
       "    <tr>\n",
       "    </tr>\n",
       "</table>"
      ],
      "text/plain": [
       "++\n",
       "||\n",
       "++\n",
       "++"
      ]
     },
     "execution_count": 18,
     "metadata": {},
     "output_type": "execute_result"
    }
   ],
   "source": [
    "%%sql\n",
    "\n",
    "ALTER TABLE nyc_demo.taxis_sample RENAME COLUMN fare_amount TO fare"
   ]
  },
  {
   "cell_type": "markdown",
   "id": "a2cd3805",
   "metadata": {},
   "source": [
    "**Since we use Duckdb as the query engine we will have to provide a schema to Duckdb to generate a Substrait plan. This schema is the evolved schema**. \n",
    "\n"
   ]
  },
  {
   "cell_type": "code",
   "execution_count": 19,
   "id": "29dc78c3",
   "metadata": {},
   "outputs": [],
   "source": [
    "# instead of `fare_amount` we use `fare` since it is the renamed field. \n",
    "def setup_duckdb_for_rename():\n",
    "    con = duckdb.connect()\n",
    "    create_schema = \"CREATE SCHEMA nyc_demo;\"\n",
    "    creation_query = \"\"\"\n",
    "    CREATE TABLE nyc_demo.taxis_sample (\n",
    "        VendorID              bigint,\n",
    "        passenger_count       double,\n",
    "        trip_distance         double,\n",
    "        RatecodeID            double,\n",
    "        store_and_fwd_flag    string,\n",
    "        PULocationID          bigint,\n",
    "        DOLocationID          bigint,\n",
    "        payment_type          bigint,\n",
    "        fare                  double,\n",
    "        extra                 double,\n",
    "        mta_tax               double,\n",
    "        tip_amount            double,\n",
    "        tolls_amount          double,\n",
    "        improvement_surcharge double,\n",
    "        total_amount          double,\n",
    "        congestion_surcharge  double,\n",
    "        airport_fee           double\n",
    "    );\n",
    "    \"\"\"\n",
    "    con.execute(create_schema)\n",
    "    con.execute(creation_query)\n",
    "    return con"
   ]
  },
  {
   "cell_type": "code",
   "execution_count": 20,
   "id": "fe65f98e",
   "metadata": {},
   "outputs": [],
   "source": [
    "query_rename = \"SELECT fare FROM nyc_demo.taxis_sample;\""
   ]
  },
  {
   "cell_type": "code",
   "execution_count": 22,
   "id": "22891ce3",
   "metadata": {},
   "outputs": [],
   "source": [
    "wrapper = DuckdbSubstrait(\"default\", \"/home/iceberg/notebooks/s3\", \"nyc_demo\", query_rename, setup_duckdb_for_rename)\n",
    "wrapper.update_named_table_with_schema()\n",
    "wrapper.update_with_local_file_paths()"
   ]
  },
  {
   "cell_type": "code",
   "execution_count": 23,
   "id": "401c703e",
   "metadata": {},
   "outputs": [],
   "source": [
    "duckdb_rename_res = wrapper.execute()"
   ]
  },
  {
   "cell_type": "code",
   "execution_count": 24,
   "id": "7f15ceaa",
   "metadata": {},
   "outputs": [
    {
     "data": {
      "text/html": [
       "<div>\n",
       "<style scoped>\n",
       "    .dataframe tbody tr th:only-of-type {\n",
       "        vertical-align: middle;\n",
       "    }\n",
       "\n",
       "    .dataframe tbody tr th {\n",
       "        vertical-align: top;\n",
       "    }\n",
       "\n",
       "    .dataframe thead th {\n",
       "        text-align: right;\n",
       "    }\n",
       "</style>\n",
       "<table border=\"1\" class=\"dataframe\">\n",
       "  <thead>\n",
       "    <tr style=\"text-align: right;\">\n",
       "      <th></th>\n",
       "      <th>fare</th>\n",
       "    </tr>\n",
       "  </thead>\n",
       "  <tbody>\n",
       "    <tr>\n",
       "      <th>0</th>\n",
       "      <td>25.5</td>\n",
       "    </tr>\n",
       "    <tr>\n",
       "      <th>1</th>\n",
       "      <td>5.0</td>\n",
       "    </tr>\n",
       "    <tr>\n",
       "      <th>2</th>\n",
       "      <td>11.5</td>\n",
       "    </tr>\n",
       "    <tr>\n",
       "      <th>3</th>\n",
       "      <td>44.2</td>\n",
       "    </tr>\n",
       "    <tr>\n",
       "      <th>4</th>\n",
       "      <td>9.0</td>\n",
       "    </tr>\n",
       "  </tbody>\n",
       "</table>\n",
       "</div>"
      ],
      "text/plain": [
       "   fare\n",
       "0  25.5\n",
       "1   5.0\n",
       "2  11.5\n",
       "3  44.2\n",
       "4   9.0"
      ]
     },
     "execution_count": 24,
     "metadata": {},
     "output_type": "execute_result"
    }
   ],
   "source": [
    "df_duckdb_substrait_rename = duckdb_rename_res.to_df()\n",
    "df_duckdb_substrait_rename.head()"
   ]
  },
  {
   "cell_type": "code",
   "execution_count": 25,
   "id": "8ab40293",
   "metadata": {},
   "outputs": [],
   "source": [
    "df_sql = spark.sql(query_rename)\n",
    "spark_rename_df = df_sql.toPandas()"
   ]
  },
  {
   "cell_type": "code",
   "execution_count": 34,
   "id": "a23cfb80",
   "metadata": {},
   "outputs": [],
   "source": [
    "assert spark_rename_df.equals(df_duckdb_substrait_rename)"
   ]
  },
  {
   "cell_type": "markdown",
   "id": "cec06648",
   "metadata": {},
   "source": [
    "## Simulating Schema Evolution for Add operation\n",
    "\n",
    "We will make an alteration to the Table by adding a new column called **`fare_per_distance_unit`**."
   ]
  },
  {
   "cell_type": "code",
   "execution_count": null,
   "id": "c39906e6",
   "metadata": {},
   "outputs": [],
   "source": [
    "%%sql\n",
    "\n",
    "ALTER TABLE nyc_demo.taxis_sample\n",
    "ADD COLUMN fare_per_distance_unit float AFTER trip_distance"
   ]
  },
  {
   "cell_type": "markdown",
   "id": "b02c3424",
   "metadata": {},
   "source": [
    "Then let’s update values for this column. We will do the following operation to add values from existing columns. \n",
    "\n",
    " **`fare_per_distance_unit`** = **`fare`** **/** **`trip_distance`**"
   ]
  },
  {
   "cell_type": "code",
   "execution_count": 49,
   "id": "d731f8e6",
   "metadata": {
    "scrolled": true
   },
   "outputs": [
    {
     "name": "stdout",
     "output_type": "stream",
     "text": [
      "23/05/27 02:23:15 WARN SparkSession: Using an existing Spark session; only runtime SQL configurations will take effect.\n"
     ]
    },
    {
     "name": "stderr",
     "output_type": "stream",
     "text": [
      "                                                                                \r"
     ]
    },
    {
     "data": {
      "text/html": [
       "<table>\n",
       "    <tr>\n",
       "    </tr>\n",
       "</table>"
      ],
      "text/plain": [
       "++\n",
       "||\n",
       "++\n",
       "++"
      ]
     },
     "execution_count": 49,
     "metadata": {},
     "output_type": "execute_result"
    }
   ],
   "source": [
    "%%sql\n",
    "\n",
    "UPDATE nyc_demo.taxis_sample\n",
    "SET fare_per_distance_unit = fare/trip_distance"
   ]
  },
  {
   "cell_type": "markdown",
   "id": "7ab34fce",
   "metadata": {},
   "source": [
    "As same as before, we will update the Duckdb schema to the evolved schema. Note that, since the update occurred, column renames are persisted. "
   ]
  },
  {
   "cell_type": "code",
   "execution_count": 50,
   "id": "dfe27aaf",
   "metadata": {},
   "outputs": [],
   "source": [
    "# adding field `fare_per_distance_unit`\n",
    "def setup_duckdb_for_update():\n",
    "    con = duckdb.connect()\n",
    "    create_schema = \"CREATE SCHEMA nyc_demo;\"\n",
    "    creation_query = \"\"\"\n",
    "    CREATE TABLE nyc_demo.taxis_sample (\n",
    "        VendorID               bigint,\n",
    "        passenger_count        double,\n",
    "        trip_distance          double,\n",
    "        fare_per_distance_unit float, \n",
    "        RatecodeID             double,\n",
    "        store_and_fwd_flag     string,\n",
    "        PULocationID           bigint,\n",
    "        DOLocationID           bigint,\n",
    "        payment_type           bigint,\n",
    "        fare                   double,\n",
    "        extra                  double,\n",
    "        mta_tax                double,\n",
    "        tip_amount             double,\n",
    "        tolls_amount           double,\n",
    "        improvement_surcharge  double,\n",
    "        total_amount           double,\n",
    "        congestion_surcharge   double,\n",
    "        airport_fee            double\n",
    "    );\n",
    "    \"\"\"\n",
    "    con.execute(create_schema)\n",
    "    con.execute(creation_query)\n",
    "    return con"
   ]
  },
  {
   "cell_type": "code",
   "execution_count": 51,
   "id": "d6af213d",
   "metadata": {},
   "outputs": [],
   "source": [
    "query_add = \"SELECT fare_per_distance_unit, fare FROM nyc_demo.taxis_sample;\""
   ]
  },
  {
   "cell_type": "code",
   "execution_count": 52,
   "id": "eda2b89a",
   "metadata": {},
   "outputs": [],
   "source": [
    "wrapper = DuckdbSubstrait(\"default\", \"/home/iceberg/notebooks/s3\", \"nyc_demo\", query_add, setup_duckdb_for_update)\n",
    "wrapper.update_named_table_with_schema()\n",
    "wrapper.update_with_local_file_paths()"
   ]
  },
  {
   "cell_type": "code",
   "execution_count": 53,
   "id": "ee4abc3b",
   "metadata": {},
   "outputs": [],
   "source": [
    "duckdb_add_res = wrapper.execute()"
   ]
  },
  {
   "cell_type": "code",
   "execution_count": 54,
   "id": "420af858",
   "metadata": {},
   "outputs": [
    {
     "data": {
      "text/html": [
       "<div>\n",
       "<style scoped>\n",
       "    .dataframe tbody tr th:only-of-type {\n",
       "        vertical-align: middle;\n",
       "    }\n",
       "\n",
       "    .dataframe tbody tr th {\n",
       "        vertical-align: top;\n",
       "    }\n",
       "\n",
       "    .dataframe thead th {\n",
       "        text-align: right;\n",
       "    }\n",
       "</style>\n",
       "<table border=\"1\" class=\"dataframe\">\n",
       "  <thead>\n",
       "    <tr style=\"text-align: right;\">\n",
       "      <th></th>\n",
       "      <th>fare_per_distance_unit</th>\n",
       "      <th>fare</th>\n",
       "    </tr>\n",
       "  </thead>\n",
       "  <tbody>\n",
       "    <tr>\n",
       "      <th>0</th>\n",
       "      <td>3.035714</td>\n",
       "      <td>25.5</td>\n",
       "    </tr>\n",
       "    <tr>\n",
       "      <th>1</th>\n",
       "      <td>5.555555</td>\n",
       "      <td>5.0</td>\n",
       "    </tr>\n",
       "    <tr>\n",
       "      <th>2</th>\n",
       "      <td>3.382353</td>\n",
       "      <td>11.5</td>\n",
       "    </tr>\n",
       "    <tr>\n",
       "      <th>3</th>\n",
       "      <td>NaN</td>\n",
       "      <td>44.2</td>\n",
       "    </tr>\n",
       "    <tr>\n",
       "      <th>4</th>\n",
       "      <td>4.591837</td>\n",
       "      <td>9.0</td>\n",
       "    </tr>\n",
       "  </tbody>\n",
       "</table>\n",
       "</div>"
      ],
      "text/plain": [
       "   fare_per_distance_unit  fare\n",
       "0                3.035714  25.5\n",
       "1                5.555555   5.0\n",
       "2                3.382353  11.5\n",
       "3                     NaN  44.2\n",
       "4                4.591837   9.0"
      ]
     },
     "execution_count": 54,
     "metadata": {},
     "output_type": "execute_result"
    }
   ],
   "source": [
    "df_duckdb_substrait_add = duckdb_add_res.to_df()\n",
    "df_duckdb_substrait_add.head()"
   ]
  },
  {
   "cell_type": "code",
   "execution_count": 35,
   "id": "746a452e",
   "metadata": {},
   "outputs": [
    {
     "data": {
      "text/html": [
       "<div>\n",
       "<style scoped>\n",
       "    .dataframe tbody tr th:only-of-type {\n",
       "        vertical-align: middle;\n",
       "    }\n",
       "\n",
       "    .dataframe tbody tr th {\n",
       "        vertical-align: top;\n",
       "    }\n",
       "\n",
       "    .dataframe thead th {\n",
       "        text-align: right;\n",
       "    }\n",
       "</style>\n",
       "<table border=\"1\" class=\"dataframe\">\n",
       "  <thead>\n",
       "    <tr style=\"text-align: right;\">\n",
       "      <th></th>\n",
       "      <th>fare_per_distance_unit</th>\n",
       "      <th>fare</th>\n",
       "    </tr>\n",
       "  </thead>\n",
       "  <tbody>\n",
       "    <tr>\n",
       "      <th>0</th>\n",
       "      <td>3.035714</td>\n",
       "      <td>25.5</td>\n",
       "    </tr>\n",
       "    <tr>\n",
       "      <th>1</th>\n",
       "      <td>5.555555</td>\n",
       "      <td>5.0</td>\n",
       "    </tr>\n",
       "    <tr>\n",
       "      <th>2</th>\n",
       "      <td>3.382353</td>\n",
       "      <td>11.5</td>\n",
       "    </tr>\n",
       "    <tr>\n",
       "      <th>3</th>\n",
       "      <td>NaN</td>\n",
       "      <td>44.2</td>\n",
       "    </tr>\n",
       "    <tr>\n",
       "      <th>4</th>\n",
       "      <td>4.591837</td>\n",
       "      <td>9.0</td>\n",
       "    </tr>\n",
       "  </tbody>\n",
       "</table>\n",
       "</div>"
      ],
      "text/plain": [
       "   fare_per_distance_unit  fare\n",
       "0                3.035714  25.5\n",
       "1                5.555555   5.0\n",
       "2                3.382353  11.5\n",
       "3                     NaN  44.2\n",
       "4                4.591837   9.0"
      ]
     },
     "execution_count": 35,
     "metadata": {},
     "output_type": "execute_result"
    }
   ],
   "source": [
    "df_sql = spark.sql(query_add)\n",
    "spark_add_df = df_sql.toPandas()\n",
    "spark_add_df.head()"
   ]
  },
  {
   "cell_type": "code",
   "execution_count": 36,
   "id": "56ee1d25",
   "metadata": {},
   "outputs": [],
   "source": [
    "assert spark_add_df.equals(df_duckdb_substrait_add)"
   ]
  },
  {
   "cell_type": "markdown",
   "id": "aba438bf",
   "metadata": {},
   "source": [
    "## Simulating Schema Evolution for Drop Operation\n",
    "\n",
    "Next, we will take a look at a column drop situation. Let’s drop the column **`improvement_surcharge`**. Also next update the Duckdb schema to the evolved schema so that it generates the evolved schema. "
   ]
  },
  {
   "cell_type": "code",
   "execution_count": 37,
   "id": "f91f8ac0",
   "metadata": {},
   "outputs": [
    {
     "name": "stdout",
     "output_type": "stream",
     "text": [
      "23/05/27 02:15:29 WARN SparkSession: Using an existing Spark session; only runtime SQL configurations will take effect.\n",
      "23/05/27 02:15:29 WARN BaseTransaction: Failed to load metadata for a committed snapshot, skipping clean-up\n"
     ]
    },
    {
     "data": {
      "text/html": [
       "<table>\n",
       "    <tr>\n",
       "    </tr>\n",
       "</table>"
      ],
      "text/plain": [
       "++\n",
       "||\n",
       "++\n",
       "++"
      ]
     },
     "execution_count": 37,
     "metadata": {},
     "output_type": "execute_result"
    }
   ],
   "source": [
    "%%sql\n",
    "ALTER TABLE nyc_demo.taxis_sample\n",
    "DROP COLUMN improvement_surcharge;"
   ]
  },
  {
   "cell_type": "code",
   "execution_count": 55,
   "id": "b1832cee",
   "metadata": {},
   "outputs": [],
   "source": [
    "# field `improvement_surcharge` is included duckdb assumes the fullschema to be available and\n",
    "# it handles selection via projection\n",
    "def setup_duckdb_for_drop():\n",
    "    con = duckdb.connect()\n",
    "    create_schema = \"CREATE SCHEMA nyc_demo;\"\n",
    "    creation_query = \"\"\"\n",
    "    CREATE TABLE nyc_demo.taxis_sample (\n",
    "        VendorID               bigint,\n",
    "        passenger_count        double,\n",
    "        trip_distance          double,\n",
    "        fare_per_distance_unit float, \n",
    "        RatecodeID             double,\n",
    "        store_and_fwd_flag     string,\n",
    "        PULocationID           bigint,\n",
    "        DOLocationID           bigint,\n",
    "        payment_type           bigint,\n",
    "        fare                   double,\n",
    "        extra                  double,\n",
    "        mta_tax                double,\n",
    "        tip_amount             double,\n",
    "        tolls_amount           double,\n",
    "        total_amount           double,\n",
    "        congestion_surcharge   double,\n",
    "        airport_fee            double\n",
    "    );\n",
    "    \"\"\"\n",
    "    con.execute(create_schema)\n",
    "    con.execute(creation_query)\n",
    "    return con"
   ]
  },
  {
   "cell_type": "code",
   "execution_count": 41,
   "id": "fc5140d5",
   "metadata": {},
   "outputs": [],
   "source": [
    "query_drop = \"SELECT * FROM nyc_demo.taxis_sample;\""
   ]
  },
  {
   "cell_type": "code",
   "execution_count": 42,
   "id": "b9ae1acd",
   "metadata": {},
   "outputs": [],
   "source": [
    "wrapper = DuckdbSubstrait(\"default\", \"/home/iceberg/notebooks/s3\", \"nyc_demo\", query_drop, setup_duckdb_for_drop)\n",
    "wrapper.update_named_table_with_schema()\n",
    "wrapper.update_with_local_file_paths()"
   ]
  },
  {
   "cell_type": "code",
   "execution_count": 43,
   "id": "3f93eb02",
   "metadata": {},
   "outputs": [],
   "source": [
    "duckdb_drop_res = wrapper.execute()"
   ]
  },
  {
   "cell_type": "code",
   "execution_count": 44,
   "id": "bdd36174",
   "metadata": {},
   "outputs": [
    {
     "data": {
      "text/html": [
       "<div>\n",
       "<style scoped>\n",
       "    .dataframe tbody tr th:only-of-type {\n",
       "        vertical-align: middle;\n",
       "    }\n",
       "\n",
       "    .dataframe tbody tr th {\n",
       "        vertical-align: top;\n",
       "    }\n",
       "\n",
       "    .dataframe thead th {\n",
       "        text-align: right;\n",
       "    }\n",
       "</style>\n",
       "<table border=\"1\" class=\"dataframe\">\n",
       "  <thead>\n",
       "    <tr style=\"text-align: right;\">\n",
       "      <th></th>\n",
       "      <th>VendorID</th>\n",
       "      <th>passenger_count</th>\n",
       "      <th>trip_distance</th>\n",
       "      <th>fare_per_distance_unit</th>\n",
       "      <th>RatecodeID</th>\n",
       "      <th>store_and_fwd_flag</th>\n",
       "      <th>PULocationID</th>\n",
       "      <th>DOLocationID</th>\n",
       "      <th>payment_type</th>\n",
       "      <th>fare</th>\n",
       "      <th>extra</th>\n",
       "      <th>mta_tax</th>\n",
       "      <th>tip_amount</th>\n",
       "      <th>tolls_amount</th>\n",
       "      <th>total_amount</th>\n",
       "      <th>congestion_surcharge</th>\n",
       "      <th>airport_fee</th>\n",
       "    </tr>\n",
       "  </thead>\n",
       "  <tbody>\n",
       "    <tr>\n",
       "      <th>0</th>\n",
       "      <td>1</td>\n",
       "      <td>1.0</td>\n",
       "      <td>8.40</td>\n",
       "      <td>3.035714</td>\n",
       "      <td>1.0</td>\n",
       "      <td>N</td>\n",
       "      <td>79</td>\n",
       "      <td>116</td>\n",
       "      <td>1</td>\n",
       "      <td>25.5</td>\n",
       "      <td>3.0</td>\n",
       "      <td>0.5</td>\n",
       "      <td>5.85</td>\n",
       "      <td>0.0</td>\n",
       "      <td>35.15</td>\n",
       "      <td>2.5</td>\n",
       "      <td>0.0</td>\n",
       "    </tr>\n",
       "    <tr>\n",
       "      <th>1</th>\n",
       "      <td>1</td>\n",
       "      <td>1.0</td>\n",
       "      <td>0.90</td>\n",
       "      <td>5.555555</td>\n",
       "      <td>1.0</td>\n",
       "      <td>N</td>\n",
       "      <td>75</td>\n",
       "      <td>236</td>\n",
       "      <td>2</td>\n",
       "      <td>5.0</td>\n",
       "      <td>3.0</td>\n",
       "      <td>0.5</td>\n",
       "      <td>0.00</td>\n",
       "      <td>0.0</td>\n",
       "      <td>8.80</td>\n",
       "      <td>2.5</td>\n",
       "      <td>0.0</td>\n",
       "    </tr>\n",
       "    <tr>\n",
       "      <th>2</th>\n",
       "      <td>1</td>\n",
       "      <td>1.0</td>\n",
       "      <td>3.40</td>\n",
       "      <td>3.382353</td>\n",
       "      <td>1.0</td>\n",
       "      <td>N</td>\n",
       "      <td>236</td>\n",
       "      <td>168</td>\n",
       "      <td>2</td>\n",
       "      <td>11.5</td>\n",
       "      <td>3.0</td>\n",
       "      <td>0.5</td>\n",
       "      <td>0.00</td>\n",
       "      <td>0.0</td>\n",
       "      <td>15.30</td>\n",
       "      <td>2.5</td>\n",
       "      <td>0.0</td>\n",
       "    </tr>\n",
       "    <tr>\n",
       "      <th>3</th>\n",
       "      <td>1</td>\n",
       "      <td>1.0</td>\n",
       "      <td>0.00</td>\n",
       "      <td>NaN</td>\n",
       "      <td>1.0</td>\n",
       "      <td>N</td>\n",
       "      <td>47</td>\n",
       "      <td>61</td>\n",
       "      <td>1</td>\n",
       "      <td>44.2</td>\n",
       "      <td>0.0</td>\n",
       "      <td>0.5</td>\n",
       "      <td>0.00</td>\n",
       "      <td>0.0</td>\n",
       "      <td>45.00</td>\n",
       "      <td>0.0</td>\n",
       "      <td>0.0</td>\n",
       "    </tr>\n",
       "    <tr>\n",
       "      <th>4</th>\n",
       "      <td>2</td>\n",
       "      <td>1.0</td>\n",
       "      <td>1.96</td>\n",
       "      <td>4.591837</td>\n",
       "      <td>1.0</td>\n",
       "      <td>N</td>\n",
       "      <td>238</td>\n",
       "      <td>152</td>\n",
       "      <td>1</td>\n",
       "      <td>9.0</td>\n",
       "      <td>0.5</td>\n",
       "      <td>0.5</td>\n",
       "      <td>3.09</td>\n",
       "      <td>0.0</td>\n",
       "      <td>13.39</td>\n",
       "      <td>0.0</td>\n",
       "      <td>0.0</td>\n",
       "    </tr>\n",
       "  </tbody>\n",
       "</table>\n",
       "</div>"
      ],
      "text/plain": [
       "   VendorID  passenger_count  trip_distance  fare_per_distance_unit  \\\n",
       "0         1              1.0           8.40                3.035714   \n",
       "1         1              1.0           0.90                5.555555   \n",
       "2         1              1.0           3.40                3.382353   \n",
       "3         1              1.0           0.00                     NaN   \n",
       "4         2              1.0           1.96                4.591837   \n",
       "\n",
       "   RatecodeID store_and_fwd_flag  PULocationID  DOLocationID  payment_type  \\\n",
       "0         1.0                  N            79           116             1   \n",
       "1         1.0                  N            75           236             2   \n",
       "2         1.0                  N           236           168             2   \n",
       "3         1.0                  N            47            61             1   \n",
       "4         1.0                  N           238           152             1   \n",
       "\n",
       "   fare  extra  mta_tax  tip_amount  tolls_amount  total_amount  \\\n",
       "0  25.5    3.0      0.5        5.85           0.0         35.15   \n",
       "1   5.0    3.0      0.5        0.00           0.0          8.80   \n",
       "2  11.5    3.0      0.5        0.00           0.0         15.30   \n",
       "3  44.2    0.0      0.5        0.00           0.0         45.00   \n",
       "4   9.0    0.5      0.5        3.09           0.0         13.39   \n",
       "\n",
       "   congestion_surcharge  airport_fee  \n",
       "0                   2.5          0.0  \n",
       "1                   2.5          0.0  \n",
       "2                   2.5          0.0  \n",
       "3                   0.0          0.0  \n",
       "4                   0.0          0.0  "
      ]
     },
     "execution_count": 44,
     "metadata": {},
     "output_type": "execute_result"
    }
   ],
   "source": [
    "df_duckdb_substrait_drop = duckdb_drop_res.to_df()\n",
    "df_duckdb_substrait_drop.head()"
   ]
  },
  {
   "cell_type": "code",
   "execution_count": 45,
   "id": "cfceacaa",
   "metadata": {},
   "outputs": [
    {
     "name": "stderr",
     "output_type": "stream",
     "text": [
      "                                                                                \r"
     ]
    },
    {
     "data": {
      "text/html": [
       "<div>\n",
       "<style scoped>\n",
       "    .dataframe tbody tr th:only-of-type {\n",
       "        vertical-align: middle;\n",
       "    }\n",
       "\n",
       "    .dataframe tbody tr th {\n",
       "        vertical-align: top;\n",
       "    }\n",
       "\n",
       "    .dataframe thead th {\n",
       "        text-align: right;\n",
       "    }\n",
       "</style>\n",
       "<table border=\"1\" class=\"dataframe\">\n",
       "  <thead>\n",
       "    <tr style=\"text-align: right;\">\n",
       "      <th></th>\n",
       "      <th>VendorID</th>\n",
       "      <th>passenger_count</th>\n",
       "      <th>trip_distance</th>\n",
       "      <th>fare_per_distance_unit</th>\n",
       "      <th>RatecodeID</th>\n",
       "      <th>store_and_fwd_flag</th>\n",
       "      <th>PULocationID</th>\n",
       "      <th>DOLocationID</th>\n",
       "      <th>payment_type</th>\n",
       "      <th>fare</th>\n",
       "      <th>extra</th>\n",
       "      <th>mta_tax</th>\n",
       "      <th>tip_amount</th>\n",
       "      <th>tolls_amount</th>\n",
       "      <th>total_amount</th>\n",
       "      <th>congestion_surcharge</th>\n",
       "      <th>airport_fee</th>\n",
       "    </tr>\n",
       "  </thead>\n",
       "  <tbody>\n",
       "    <tr>\n",
       "      <th>0</th>\n",
       "      <td>1</td>\n",
       "      <td>1.0</td>\n",
       "      <td>8.40</td>\n",
       "      <td>3.035714</td>\n",
       "      <td>1.0</td>\n",
       "      <td>N</td>\n",
       "      <td>79</td>\n",
       "      <td>116</td>\n",
       "      <td>1</td>\n",
       "      <td>25.5</td>\n",
       "      <td>3.0</td>\n",
       "      <td>0.5</td>\n",
       "      <td>5.85</td>\n",
       "      <td>0.0</td>\n",
       "      <td>35.15</td>\n",
       "      <td>2.5</td>\n",
       "      <td>0.0</td>\n",
       "    </tr>\n",
       "    <tr>\n",
       "      <th>1</th>\n",
       "      <td>1</td>\n",
       "      <td>1.0</td>\n",
       "      <td>0.90</td>\n",
       "      <td>5.555555</td>\n",
       "      <td>1.0</td>\n",
       "      <td>N</td>\n",
       "      <td>75</td>\n",
       "      <td>236</td>\n",
       "      <td>2</td>\n",
       "      <td>5.0</td>\n",
       "      <td>3.0</td>\n",
       "      <td>0.5</td>\n",
       "      <td>0.00</td>\n",
       "      <td>0.0</td>\n",
       "      <td>8.80</td>\n",
       "      <td>2.5</td>\n",
       "      <td>0.0</td>\n",
       "    </tr>\n",
       "    <tr>\n",
       "      <th>2</th>\n",
       "      <td>1</td>\n",
       "      <td>1.0</td>\n",
       "      <td>3.40</td>\n",
       "      <td>3.382353</td>\n",
       "      <td>1.0</td>\n",
       "      <td>N</td>\n",
       "      <td>236</td>\n",
       "      <td>168</td>\n",
       "      <td>2</td>\n",
       "      <td>11.5</td>\n",
       "      <td>3.0</td>\n",
       "      <td>0.5</td>\n",
       "      <td>0.00</td>\n",
       "      <td>0.0</td>\n",
       "      <td>15.30</td>\n",
       "      <td>2.5</td>\n",
       "      <td>0.0</td>\n",
       "    </tr>\n",
       "    <tr>\n",
       "      <th>3</th>\n",
       "      <td>1</td>\n",
       "      <td>1.0</td>\n",
       "      <td>0.00</td>\n",
       "      <td>NaN</td>\n",
       "      <td>1.0</td>\n",
       "      <td>N</td>\n",
       "      <td>47</td>\n",
       "      <td>61</td>\n",
       "      <td>1</td>\n",
       "      <td>44.2</td>\n",
       "      <td>0.0</td>\n",
       "      <td>0.5</td>\n",
       "      <td>0.00</td>\n",
       "      <td>0.0</td>\n",
       "      <td>45.00</td>\n",
       "      <td>0.0</td>\n",
       "      <td>0.0</td>\n",
       "    </tr>\n",
       "    <tr>\n",
       "      <th>4</th>\n",
       "      <td>2</td>\n",
       "      <td>1.0</td>\n",
       "      <td>1.96</td>\n",
       "      <td>4.591837</td>\n",
       "      <td>1.0</td>\n",
       "      <td>N</td>\n",
       "      <td>238</td>\n",
       "      <td>152</td>\n",
       "      <td>1</td>\n",
       "      <td>9.0</td>\n",
       "      <td>0.5</td>\n",
       "      <td>0.5</td>\n",
       "      <td>3.09</td>\n",
       "      <td>0.0</td>\n",
       "      <td>13.39</td>\n",
       "      <td>0.0</td>\n",
       "      <td>0.0</td>\n",
       "    </tr>\n",
       "  </tbody>\n",
       "</table>\n",
       "</div>"
      ],
      "text/plain": [
       "   VendorID  passenger_count  trip_distance  fare_per_distance_unit  \\\n",
       "0         1              1.0           8.40                3.035714   \n",
       "1         1              1.0           0.90                5.555555   \n",
       "2         1              1.0           3.40                3.382353   \n",
       "3         1              1.0           0.00                     NaN   \n",
       "4         2              1.0           1.96                4.591837   \n",
       "\n",
       "   RatecodeID store_and_fwd_flag  PULocationID  DOLocationID  payment_type  \\\n",
       "0         1.0                  N            79           116             1   \n",
       "1         1.0                  N            75           236             2   \n",
       "2         1.0                  N           236           168             2   \n",
       "3         1.0                  N            47            61             1   \n",
       "4         1.0                  N           238           152             1   \n",
       "\n",
       "   fare  extra  mta_tax  tip_amount  tolls_amount  total_amount  \\\n",
       "0  25.5    3.0      0.5        5.85           0.0         35.15   \n",
       "1   5.0    3.0      0.5        0.00           0.0          8.80   \n",
       "2  11.5    3.0      0.5        0.00           0.0         15.30   \n",
       "3  44.2    0.0      0.5        0.00           0.0         45.00   \n",
       "4   9.0    0.5      0.5        3.09           0.0         13.39   \n",
       "\n",
       "   congestion_surcharge  airport_fee  \n",
       "0                   2.5          0.0  \n",
       "1                   2.5          0.0  \n",
       "2                   2.5          0.0  \n",
       "3                   0.0          0.0  \n",
       "4                   0.0          0.0  "
      ]
     },
     "execution_count": 45,
     "metadata": {},
     "output_type": "execute_result"
    }
   ],
   "source": [
    "df_sql = spark.sql(query_drop)\n",
    "spark_drop_df = df_sql.toPandas()\n",
    "spark_drop_df.head()"
   ]
  },
  {
   "cell_type": "code",
   "execution_count": 46,
   "id": "970c6ed0",
   "metadata": {},
   "outputs": [],
   "source": [
    "assert spark_drop_df.equals(df_duckdb_substrait_drop)"
   ]
  },
  {
   "cell_type": "markdown",
   "id": "a0d1fddc",
   "metadata": {},
   "source": [
    "We have done rename, add column, update column and drop column operations. Ad you can see the schema evolution is supported via Substrait for Duckdb. \n",
    "\n",
    "Similarly this can be used to support Schema evolution for other Substrait consumers."
   ]
  },
  {
   "cell_type": "markdown",
   "id": "717448e6",
   "metadata": {},
   "source": [
    "## References\n",
    "\n",
    "1. Tabular Iceberg: https://tabular.io/blog/introducing-tabular/\n",
    "2. Tabular test suite for Iceberg, Spark: https://github.com/tabular-io/docker-spark-iceberg\n",
    "3. Apache Iceberg: https://iceberg.apache.org/\n",
    "4. Substrait: https://substrait.io/\n",
    "5. Duckdb/Substrait: https://duckdb.org/docs/extensions/substrait.html\n",
    "6. Ibis/Substrait: https://github.com/ibis-project/ibis-substrait\n",
    "7. Experimental Module for PyIceberg and Python-Substrait: https://github.com/vibhatha/pyiceberg_substrait"
   ]
  },
  {
   "cell_type": "markdown",
   "id": "31530e85",
   "metadata": {},
   "source": [
    "## Credits\n",
    "\n",
    "[Tabular](https://tabular.io) resources for Apache Iceberg have been very helpful to learn more about building tools around the existing eco-system. "
   ]
  },
  {
   "cell_type": "code",
   "execution_count": null,
   "id": "a6853544",
   "metadata": {},
   "outputs": [],
   "source": []
  }
 ],
 "metadata": {
  "kernelspec": {
   "display_name": "Python 3 (ipykernel)",
   "language": "python",
   "name": "python3"
  },
  "language_info": {
   "codemirror_mode": {
    "name": "ipython",
    "version": 3
   },
   "file_extension": ".py",
   "mimetype": "text/x-python",
   "name": "python",
   "nbconvert_exporter": "python",
   "pygments_lexer": "ipython3",
   "version": "3.9.16"
  }
 },
 "nbformat": 4,
 "nbformat_minor": 5
}
