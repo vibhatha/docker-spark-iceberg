{
 "cells": [
  {
   "cell_type": "code",
   "execution_count": 9,
   "id": "4e69e4d9",
   "metadata": {},
   "outputs": [],
   "source": [
    "import ibis\n",
    "from ibis_substrait.compiler.core import SubstraitCompiler\n",
    "from icetrait.iceberg.process import ProcessSubstrait"
   ]
  },
  {
   "cell_type": "code",
   "execution_count": 10,
   "id": "6f702e96",
   "metadata": {},
   "outputs": [],
   "source": [
    "ibis_tb = ibis.table([(\"id\", \"date\"), (\"bid\", \"float\"), (\"ask\", \"int32\"), (\"symbol\", \"string\")], \"t\",)\n",
    "query = ibis_tb.select([\"id\", \"bid\", \"ask\", \"symbol\"])\n",
    "compiler = SubstraitCompiler()\n",
    "protobuf_msg = compiler.compile(query).SerializeToString()"
   ]
  },
  {
   "cell_type": "code",
   "execution_count": 12,
   "id": "dc1b5eb1",
   "metadata": {},
   "outputs": [],
   "source": [
    "psb = ProcessSubstrait(protobuf_msg)"
   ]
  },
  {
   "cell_type": "code",
   "execution_count": 19,
   "id": "cb969dd7",
   "metadata": {},
   "outputs": [],
   "source": [
    "import duckdb\n",
    "\n",
    "con = duckdb.connect()\n",
    "con.install_extension(\"substrait\")\n",
    "con.load_extension(\"substrait\")\n"
   ]
  },
  {
   "cell_type": "code",
   "execution_count": 25,
   "id": "8902ad16",
   "metadata": {},
   "outputs": [],
   "source": [
    "con.execute(query='CREATE TABLE t1 (id int,bid float, ask int, symbol text);')\n",
    "con.execute(query=\"INSERT INTO t1 VALUES (1, 0.1, 0.2, 'A'), (2, 0.2, 0.3, 'B');\")\n",
    "\n",
    "protobuf_msg = con.get_substrait(query=\"SELECT id as ID, bid as BID, ask as ASK, symbol AS SYMBOL FROM t1\").fetchone()[0]    "
   ]
  },
  {
   "cell_type": "code",
   "execution_count": 26,
   "id": "8aadb730",
   "metadata": {},
   "outputs": [],
   "source": [
    "psb = ProcessSubstrait(protobuf_msg)"
   ]
  },
  {
   "cell_type": "code",
   "execution_count": 27,
   "id": "bb9ff506",
   "metadata": {},
   "outputs": [
    {
     "data": {
      "text/plain": [
       "relations {\n",
       "  root {\n",
       "    input {\n",
       "      project {\n",
       "        input {\n",
       "          read {\n",
       "            base_schema {\n",
       "              names: \"id\"\n",
       "              names: \"bid\"\n",
       "              names: \"ask\"\n",
       "              names: \"symbol\"\n",
       "              struct {\n",
       "                types {\n",
       "                  i32 {\n",
       "                    nullability: NULLABILITY_NULLABLE\n",
       "                  }\n",
       "                }\n",
       "                types {\n",
       "                  fp32 {\n",
       "                    nullability: NULLABILITY_NULLABLE\n",
       "                  }\n",
       "                }\n",
       "                types {\n",
       "                  i32 {\n",
       "                    nullability: NULLABILITY_NULLABLE\n",
       "                  }\n",
       "                }\n",
       "                types {\n",
       "                  varchar {\n",
       "                    length: 1\n",
       "                    nullability: NULLABILITY_NULLABLE\n",
       "                  }\n",
       "                }\n",
       "                nullability: NULLABILITY_REQUIRED\n",
       "              }\n",
       "            }\n",
       "            projection {\n",
       "              select {\n",
       "                struct_items {\n",
       "                }\n",
       "                struct_items {\n",
       "                  field: 1\n",
       "                }\n",
       "                struct_items {\n",
       "                  field: 2\n",
       "                }\n",
       "                struct_items {\n",
       "                  field: 3\n",
       "                }\n",
       "              }\n",
       "              maintain_singular_struct: true\n",
       "            }\n",
       "            named_table {\n",
       "              names: \"t1\"\n",
       "            }\n",
       "          }\n",
       "        }\n",
       "        expressions {\n",
       "          selection {\n",
       "            direct_reference {\n",
       "              struct_field {\n",
       "              }\n",
       "            }\n",
       "            root_reference {\n",
       "            }\n",
       "          }\n",
       "        }\n",
       "        expressions {\n",
       "          selection {\n",
       "            direct_reference {\n",
       "              struct_field {\n",
       "                field: 1\n",
       "              }\n",
       "            }\n",
       "            root_reference {\n",
       "            }\n",
       "          }\n",
       "        }\n",
       "        expressions {\n",
       "          selection {\n",
       "            direct_reference {\n",
       "              struct_field {\n",
       "                field: 2\n",
       "              }\n",
       "            }\n",
       "            root_reference {\n",
       "            }\n",
       "          }\n",
       "        }\n",
       "        expressions {\n",
       "          selection {\n",
       "            direct_reference {\n",
       "              struct_field {\n",
       "                field: 3\n",
       "              }\n",
       "            }\n",
       "            root_reference {\n",
       "            }\n",
       "          }\n",
       "        }\n",
       "      }\n",
       "    }\n",
       "    names: \"ID\"\n",
       "    names: \"BID\"\n",
       "    names: \"ASK\"\n",
       "    names: \"SYMBOL\"\n",
       "  }\n",
       "}"
      ]
     },
     "execution_count": 27,
     "metadata": {},
     "output_type": "execute_result"
    }
   ],
   "source": []
  },
  {
   "cell_type": "code",
   "execution_count": 28,
   "id": "aaa3ab7c",
   "metadata": {},
   "outputs": [
    {
     "data": {
      "text/plain": [
       "┌───────┬───────┬───────┬─────────┐\n",
       "│  ID   │  BID  │  ASK  │ SYMBOL  │\n",
       "│ int32 │ float │ int32 │ varchar │\n",
       "├───────┼───────┼───────┼─────────┤\n",
       "│     1 │   0.1 │     0 │ A       │\n",
       "│     2 │   0.2 │     0 │ B       │\n",
       "└───────┴───────┴───────┴─────────┘"
      ]
     },
     "execution_count": 28,
     "metadata": {},
     "output_type": "execute_result"
    }
   ],
   "source": [
    "query_result = con.from_substrait(proto=protobuf_msg)\n",
    "query_result"
   ]
  },
  {
   "cell_type": "code",
   "execution_count": 35,
   "id": "81524523",
   "metadata": {},
   "outputs": [
    {
     "name": "stdout",
     "output_type": "stream",
     "text": [
      "{\"relations\":[{\"root\":{\"input\":{\"project\":{\"input\":{\"read\":{\"baseSchema\":{\"names\":[\"id\",\"bid\",\"ask\",\"symbol\"],\"struct\":{\"types\":[{\"i32\":{\"nullability\":\"NULLABILITY_NULLABLE\"}},{\"fp32\":{\"nullability\":\"NULLABILITY_NULLABLE\"}},{\"i32\":{\"nullability\":\"NULLABILITY_NULLABLE\"}},{\"varchar\":{\"length\":1,\"nullability\":\"NULLABILITY_NULLABLE\"}}],\"nullability\":\"NULLABILITY_REQUIRED\"}},\"projection\":{\"select\":{\"structItems\":[{},{\"field\":1},{\"field\":2},{\"field\":3}]},\"maintainSingularStruct\":true},\"namedTable\":{\"names\":[\"t1\"]}}},\"expressions\":[{\"selection\":{\"directReference\":{\"structField\":{}},\"rootReference\":{}}},{\"selection\":{\"directReference\":{\"structField\":{\"field\":1}},\"rootReference\":{}}},{\"selection\":{\"directReference\":{\"structField\":{\"field\":2}},\"rootReference\":{}}},{\"selection\":{\"directReference\":{\"structField\":{\"field\":3}},\"rootReference\":{}}}]}},\"names\":[\"ID\",\"BID\",\"ASK\",\"SYMBOL\"]}}]}\n"
     ]
    }
   ],
   "source": [
    "json_plan = con.get_substrait_json(query=\"SELECT id as ID, bid as BID, ask as ASK, symbol AS SYMBOL FROM t1\").fetchone()[0]\n",
    "print(json_plan)"
   ]
  },
  {
   "cell_type": "markdown",
   "id": "82a75d42",
   "metadata": {},
   "source": [
    "### Projection Case Sample with Substrait\n",
    "\n",
    "For column renames can be handled by just changing the `root.names` attribute.\n",
    "\n",
    "Changes required for the Substrait plan\n",
    "\n",
    "1. Update the field (field name or/and field type)\n",
    "   a. If required we may have to do casting (type change)\n",
    "2. Update `root.names` in `Plan.RelRoot`"
   ]
  },
  {
   "cell_type": "code",
   "execution_count": null,
   "id": "d4d0b60f",
   "metadata": {},
   "outputs": [],
   "source": []
  }
 ],
 "metadata": {
  "kernelspec": {
   "display_name": "Python 3 (ipykernel)",
   "language": "python",
   "name": "python3"
  },
  "language_info": {
   "codemirror_mode": {
    "name": "ipython",
    "version": 3
   },
   "file_extension": ".py",
   "mimetype": "text/x-python",
   "name": "python",
   "nbconvert_exporter": "python",
   "pygments_lexer": "ipython3",
   "version": "3.9.16"
  }
 },
 "nbformat": 4,
 "nbformat_minor": 5
}
