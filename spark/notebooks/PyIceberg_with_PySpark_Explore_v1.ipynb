{
 "cells": [
  {
   "cell_type": "code",
   "execution_count": 1,
   "id": "11205cfa",
   "metadata": {},
   "outputs": [
    {
     "name": "stdout",
     "output_type": "stream",
     "text": [
      "23/04/26 06:31:05 WARN SparkSession: Using an existing Spark session; only runtime SQL configurations will take effect.\n"
     ]
    }
   ],
   "source": [
    "import findspark\n",
    "findspark.init()\n",
    "\n",
    "from pyspark.sql import SparkSession\n",
    "\n",
    "spark = (\n",
    "    SparkSession.builder.master(\"local\")\n",
    "    .appName(\"IcebergPySpark\")\n",
    "    .config(\"spark.jars\", \"/home/asus/Downloads/iceberg-spark-runtime-3.2_2.12-1.2.0.jar\")\n",
    "    .config(\"spark.sql.extensions\", \"org.apache.iceberg.spark.extensions.IcebergSparkSessionExtensions\")\n",
    "    .config(\"spark.sql.catalog.demo\", \"org.apache.iceberg.spark.SparkCatalog\")\n",
    "    .config(\"spark.sql.catalog.demo.catalog-impl\", \"org.apache.iceberg.rest.RESTCatalog\")\n",
    "    .config(\"spark.sql.catalog.demo.uri\", \"http://rest:8181\")\n",
    "    .config(\"spark.sql.catalog.demo.warehouse\", \"s3a://warehouse/wh/\")\n",
    "    .config(\"spark.sql.catalog.demo.s3.endpoint\", \"http://minio:9000\")\n",
    "    .config(\"spark.sql.defaultCatalog\", \"demo\")\n",
    "    .config(\"spark.eventLog.enabled\", \"true\")\n",
    "    .config(\"spark.eventLog.dir\", \"/home/iceberg/spark-events\")\n",
    "    .config(\"spark.history.fs.logDirectory\", \"/home/iceberg/spark-events\")\n",
    "    .config(\"spark.sql.catalogImplementation\", \"/home/iceberg/spark-events\")\n",
    "    .getOrCreate()\n",
    ")"
   ]
  },
  {
   "cell_type": "code",
   "execution_count": 2,
   "id": "fda4dbd1",
   "metadata": {},
   "outputs": [],
   "source": [
    "def cleanup(namespace=\"substrait\", table_id=\"default.substrait.bids\"):\n",
    "    iceberg_catalog.drop_namespace(namespace)\n",
    "    iceberg_catalog.list_namespaces()\n",
    "    iceberg_catalog.drop_table(table_id)"
   ]
  },
  {
   "cell_type": "code",
   "execution_count": 3,
   "id": "e870a8e3",
   "metadata": {},
   "outputs": [
    {
     "data": {
      "text/plain": [
       "'default'"
      ]
     },
     "execution_count": 3,
     "metadata": {},
     "output_type": "execute_result"
    }
   ],
   "source": [
    "spark.catalog.currentDatabase()"
   ]
  },
  {
   "cell_type": "code",
   "execution_count": 4,
   "id": "a8b774ff",
   "metadata": {},
   "outputs": [
    {
     "data": {
      "text/plain": [
       "[Database(name='default', description='default database', locationUri='file:/home/iceberg/notebooks/spark-warehouse')]"
      ]
     },
     "execution_count": 4,
     "metadata": {},
     "output_type": "execute_result"
    }
   ],
   "source": [
    "spark.catalog.listDatabases()"
   ]
  },
  {
   "cell_type": "code",
   "execution_count": 5,
   "id": "7f7cd272",
   "metadata": {},
   "outputs": [
    {
     "data": {
      "text/plain": [
       "[]"
      ]
     },
     "execution_count": 5,
     "metadata": {},
     "output_type": "execute_result"
    }
   ],
   "source": [
    "spark.catalog.listTables()"
   ]
  },
  {
   "cell_type": "code",
   "execution_count": 6,
   "id": "932cdb97",
   "metadata": {},
   "outputs": [
    {
     "data": {
      "text/plain": [
       "<pyiceberg.catalog.rest.RestCatalog at 0x7f822a05f670>"
      ]
     },
     "execution_count": 6,
     "metadata": {},
     "output_type": "execute_result"
    }
   ],
   "source": [
    "from pyiceberg.catalog import load_catalog\n",
    "from pyiceberg.expressions import GreaterThanOrEqual\n",
    "\n",
    "iceberg_catalog = load_catalog('default')\n",
    "iceberg_catalog"
   ]
  },
  {
   "cell_type": "code",
   "execution_count": 7,
   "id": "0f60981b",
   "metadata": {},
   "outputs": [
    {
     "data": {
      "text/plain": [
       "[('default',), ('substrait',)]"
      ]
     },
     "execution_count": 7,
     "metadata": {},
     "output_type": "execute_result"
    }
   ],
   "source": [
    "iceberg_catalog.list_namespaces()"
   ]
  },
  {
   "cell_type": "code",
   "execution_count": 8,
   "id": "d283d5cf",
   "metadata": {},
   "outputs": [],
   "source": [
    "#iceberg_catalog.create_namespace(\"substrait\")"
   ]
  },
  {
   "cell_type": "code",
   "execution_count": 9,
   "id": "e8a129c5",
   "metadata": {},
   "outputs": [
    {
     "data": {
      "text/plain": [
       "[('default',), ('substrait',)]"
      ]
     },
     "execution_count": 9,
     "metadata": {},
     "output_type": "execute_result"
    }
   ],
   "source": [
    "iceberg_catalog.list_namespaces()"
   ]
  },
  {
   "cell_type": "code",
   "execution_count": 10,
   "id": "ebbc5423",
   "metadata": {},
   "outputs": [],
   "source": [
    "#nyc_taxi_table = iceberg_catalog.load_table((\"nyc\", \"taxis\"))"
   ]
  },
  {
   "cell_type": "code",
   "execution_count": 11,
   "id": "e71b881a",
   "metadata": {},
   "outputs": [],
   "source": [
    "#nyc_taxi_table.location()"
   ]
  },
  {
   "cell_type": "code",
   "execution_count": 12,
   "id": "f75169e5",
   "metadata": {},
   "outputs": [
    {
     "ename": "TableAlreadyExistsError",
     "evalue": "AlreadyExistsException: Table already exists: default.substrait.bids",
     "output_type": "error",
     "traceback": [
      "\u001b[0;31m---------------------------------------------------------------------------\u001b[0m",
      "\u001b[0;31mHTTPError\u001b[0m                                 Traceback (most recent call last)",
      "File \u001b[0;32m/usr/local/lib/python3.9/site-packages/pyiceberg/catalog/rest.py:366\u001b[0m, in \u001b[0;36mRestCatalog.create_table\u001b[0;34m(self, identifier, schema, location, partition_spec, sort_order, properties)\u001b[0m\n\u001b[1;32m    365\u001b[0m \u001b[38;5;28;01mtry\u001b[39;00m:\n\u001b[0;32m--> 366\u001b[0m     \u001b[43mresponse\u001b[49m\u001b[38;5;241;43m.\u001b[39;49m\u001b[43mraise_for_status\u001b[49m\u001b[43m(\u001b[49m\u001b[43m)\u001b[49m\n\u001b[1;32m    367\u001b[0m \u001b[38;5;28;01mexcept\u001b[39;00m HTTPError \u001b[38;5;28;01mas\u001b[39;00m exc:\n",
      "File \u001b[0;32m/usr/local/lib/python3.9/site-packages/requests/models.py:1021\u001b[0m, in \u001b[0;36mResponse.raise_for_status\u001b[0;34m(self)\u001b[0m\n\u001b[1;32m   1020\u001b[0m \u001b[38;5;28;01mif\u001b[39;00m http_error_msg:\n\u001b[0;32m-> 1021\u001b[0m     \u001b[38;5;28;01mraise\u001b[39;00m HTTPError(http_error_msg, response\u001b[38;5;241m=\u001b[39m\u001b[38;5;28mself\u001b[39m)\n",
      "\u001b[0;31mHTTPError\u001b[0m: 409 Client Error: Conflict for url: http://rest:8181/v1/namespaces/default%1Fsubstrait/tables",
      "\nThe above exception was the direct cause of the following exception:\n",
      "\u001b[0;31mTableAlreadyExistsError\u001b[0m                   Traceback (most recent call last)",
      "Cell \u001b[0;32mIn[12], line 30\u001b[0m\n\u001b[1;32m     26\u001b[0m sort_order \u001b[38;5;241m=\u001b[39m SortOrder(SortField(source_id\u001b[38;5;241m=\u001b[39m\u001b[38;5;241m4\u001b[39m, transform\u001b[38;5;241m=\u001b[39mIdentityTransform()))\n\u001b[1;32m     28\u001b[0m iceberg_catalog \u001b[38;5;241m=\u001b[39m load_catalog(\u001b[38;5;124m\"\u001b[39m\u001b[38;5;124mdefault\u001b[39m\u001b[38;5;124m\"\u001b[39m)\n\u001b[0;32m---> 30\u001b[0m \u001b[43miceberg_catalog\u001b[49m\u001b[38;5;241;43m.\u001b[39;49m\u001b[43mcreate_table\u001b[49m\u001b[43m(\u001b[49m\n\u001b[1;32m     31\u001b[0m \u001b[43m    \u001b[49m\u001b[43midentifier\u001b[49m\u001b[38;5;241;43m=\u001b[39;49m\u001b[38;5;124;43m\"\u001b[39;49m\u001b[38;5;124;43mdefault.substrait.bids\u001b[39;49m\u001b[38;5;124;43m\"\u001b[39;49m\u001b[43m,\u001b[49m\n\u001b[1;32m     32\u001b[0m \u001b[43m    \u001b[49m\u001b[43mlocation\u001b[49m\u001b[38;5;241;43m=\u001b[39;49m\u001b[38;5;124;43m\"\u001b[39;49m\u001b[38;5;124;43ms3://warehouse/sample/mytable\u001b[39;49m\u001b[38;5;124;43m\"\u001b[39;49m\u001b[43m,\u001b[49m\n\u001b[1;32m     33\u001b[0m \u001b[43m    \u001b[49m\u001b[43mschema\u001b[49m\u001b[38;5;241;43m=\u001b[39;49m\u001b[43mschema\u001b[49m\u001b[43m,\u001b[49m\n\u001b[1;32m     34\u001b[0m \u001b[43m    \u001b[49m\u001b[43mpartition_spec\u001b[49m\u001b[38;5;241;43m=\u001b[39;49m\u001b[43mpartition_spec\u001b[49m\u001b[43m,\u001b[49m\n\u001b[1;32m     35\u001b[0m \u001b[43m    \u001b[49m\u001b[43msort_order\u001b[49m\u001b[38;5;241;43m=\u001b[39;49m\u001b[43msort_order\u001b[49m\u001b[43m,\u001b[49m\n\u001b[1;32m     36\u001b[0m \u001b[43m)\u001b[49m\n",
      "File \u001b[0;32m/usr/local/lib/python3.9/site-packages/pyiceberg/catalog/rest.py:368\u001b[0m, in \u001b[0;36mRestCatalog.create_table\u001b[0;34m(self, identifier, schema, location, partition_spec, sort_order, properties)\u001b[0m\n\u001b[1;32m    366\u001b[0m     response\u001b[38;5;241m.\u001b[39mraise_for_status()\n\u001b[1;32m    367\u001b[0m \u001b[38;5;28;01mexcept\u001b[39;00m HTTPError \u001b[38;5;28;01mas\u001b[39;00m exc:\n\u001b[0;32m--> 368\u001b[0m     \u001b[38;5;28;43mself\u001b[39;49m\u001b[38;5;241;43m.\u001b[39;49m\u001b[43m_handle_non_200_response\u001b[49m\u001b[43m(\u001b[49m\u001b[43mexc\u001b[49m\u001b[43m,\u001b[49m\u001b[43m \u001b[49m\u001b[43m{\u001b[49m\u001b[38;5;241;43m409\u001b[39;49m\u001b[43m:\u001b[49m\u001b[43m \u001b[49m\u001b[43mTableAlreadyExistsError\u001b[49m\u001b[43m}\u001b[49m\u001b[43m)\u001b[49m\n\u001b[1;32m    370\u001b[0m table_response \u001b[38;5;241m=\u001b[39m TableResponse(\u001b[38;5;241m*\u001b[39m\u001b[38;5;241m*\u001b[39mresponse\u001b[38;5;241m.\u001b[39mjson())\n\u001b[1;32m    372\u001b[0m \u001b[38;5;28;01mreturn\u001b[39;00m Table(\n\u001b[1;32m    373\u001b[0m     identifier\u001b[38;5;241m=\u001b[39m(\u001b[38;5;28mself\u001b[39m\u001b[38;5;241m.\u001b[39mname,) \u001b[38;5;241m+\u001b[39m \u001b[38;5;28mself\u001b[39m\u001b[38;5;241m.\u001b[39midentifier_to_tuple(identifier),\n\u001b[1;32m    374\u001b[0m     metadata_location\u001b[38;5;241m=\u001b[39mtable_response\u001b[38;5;241m.\u001b[39mmetadata_location,\n\u001b[1;32m    375\u001b[0m     metadata\u001b[38;5;241m=\u001b[39mtable_response\u001b[38;5;241m.\u001b[39mmetadata,\n\u001b[1;32m    376\u001b[0m     io\u001b[38;5;241m=\u001b[39m\u001b[38;5;28mself\u001b[39m\u001b[38;5;241m.\u001b[39m_load_file_io({\u001b[38;5;241m*\u001b[39m\u001b[38;5;241m*\u001b[39mtable_response\u001b[38;5;241m.\u001b[39mmetadata\u001b[38;5;241m.\u001b[39mproperties, \u001b[38;5;241m*\u001b[39m\u001b[38;5;241m*\u001b[39mtable_response\u001b[38;5;241m.\u001b[39mconfig}),\n\u001b[1;32m    377\u001b[0m )\n",
      "File \u001b[0;32m/usr/local/lib/python3.9/site-packages/pyiceberg/catalog/rest.py:340\u001b[0m, in \u001b[0;36mRestCatalog._handle_non_200_response\u001b[0;34m(self, exc, error_handler)\u001b[0m\n\u001b[1;32m    335\u001b[0m     errs \u001b[38;5;241m=\u001b[39m \u001b[38;5;124m\"\u001b[39m\u001b[38;5;124m, \u001b[39m\u001b[38;5;124m\"\u001b[39m\u001b[38;5;241m.\u001b[39mjoin(err[\u001b[38;5;124m\"\u001b[39m\u001b[38;5;124mmsg\u001b[39m\u001b[38;5;124m\"\u001b[39m] \u001b[38;5;28;01mfor\u001b[39;00m err \u001b[38;5;129;01min\u001b[39;00m e\u001b[38;5;241m.\u001b[39merrors())\n\u001b[1;32m    336\u001b[0m     response \u001b[38;5;241m=\u001b[39m (\n\u001b[1;32m    337\u001b[0m         \u001b[38;5;124mf\u001b[39m\u001b[38;5;124m\"\u001b[39m\u001b[38;5;124mRESTError \u001b[39m\u001b[38;5;132;01m{\u001b[39;00mexc\u001b[38;5;241m.\u001b[39mresponse\u001b[38;5;241m.\u001b[39mstatus_code\u001b[38;5;132;01m}\u001b[39;00m\u001b[38;5;124m: Received unexpected JSON Payload: \u001b[39m\u001b[38;5;132;01m{\u001b[39;00mexc\u001b[38;5;241m.\u001b[39mresponse\u001b[38;5;241m.\u001b[39mtext\u001b[38;5;132;01m}\u001b[39;00m\u001b[38;5;124m, errors: \u001b[39m\u001b[38;5;132;01m{\u001b[39;00merrs\u001b[38;5;132;01m}\u001b[39;00m\u001b[38;5;124m\"\u001b[39m\n\u001b[1;32m    338\u001b[0m     )\n\u001b[0;32m--> 340\u001b[0m \u001b[38;5;28;01mraise\u001b[39;00m exception(response) \u001b[38;5;28;01mfrom\u001b[39;00m \u001b[38;5;21;01mexc\u001b[39;00m\n",
      "\u001b[0;31mTableAlreadyExistsError\u001b[0m: AlreadyExistsException: Table already exists: default.substrait.bids"
     ]
    }
   ],
   "source": [
    "from pyiceberg.catalog import load_catalog\n",
    "from pyiceberg.schema import Schema\n",
    "from pyiceberg.types import TimestampType, DoubleType, StringType, NestedField\n",
    "\n",
    "schema = Schema(\n",
    "    NestedField(\n",
    "        field_id=1, name=\"id\", field_type=TimestampType(), required=False\n",
    "    ),\n",
    "    NestedField(field_id=2, name=\"bid\", field_type=DoubleType(), required=False),\n",
    "    NestedField(field_id=3, name=\"ask\", field_type=DoubleType(), required=False),\n",
    "    NestedField(field_id=4, name=\"symbol\", field_type=StringType(), required=False),\n",
    ")\n",
    "\n",
    "from pyiceberg.partitioning import PartitionSpec, PartitionField\n",
    "from pyiceberg.transforms import DayTransform\n",
    "\n",
    "partition_spec = PartitionSpec(\n",
    "    PartitionField(\n",
    "        source_id=1, field_id=1000, transform=DayTransform(), name=\"datetime_day\"\n",
    "    )\n",
    ")\n",
    "\n",
    "from pyiceberg.table.sorting import SortOrder, SortField\n",
    "from pyiceberg.transforms import IdentityTransform\n",
    "\n",
    "sort_order = SortOrder(SortField(source_id=4, transform=IdentityTransform()))\n",
    "\n",
    "iceberg_catalog = load_catalog(\"default\")\n",
    "\n",
    "iceberg_catalog.create_table(\n",
    "    identifier=\"default.substrait.bids\",\n",
    "    location=\"s3://warehouse/sample/mytable\",\n",
    "    schema=schema,\n",
    "    partition_spec=partition_spec,\n",
    "    sort_order=sort_order,\n",
    ")"
   ]
  },
  {
   "cell_type": "code",
   "execution_count": 13,
   "id": "666388f3",
   "metadata": {},
   "outputs": [
    {
     "data": {
      "text/plain": [
       "[('default',), ('substrait',)]"
      ]
     },
     "execution_count": 13,
     "metadata": {},
     "output_type": "execute_result"
    }
   ],
   "source": [
    "iceberg_catalog.list_namespaces()"
   ]
  },
  {
   "cell_type": "code",
   "execution_count": 14,
   "id": "7e3da82b",
   "metadata": {},
   "outputs": [],
   "source": [
    "import datetime"
   ]
  },
  {
   "cell_type": "code",
   "execution_count": 15,
   "id": "e4c2d306",
   "metadata": {},
   "outputs": [
    {
     "name": "stderr",
     "output_type": "stream",
     "text": [
      "SLF4J: Failed to load class \"org.slf4j.impl.StaticLoggerBinder\".\n",
      "SLF4J: Defaulting to no-operation (NOP) logger implementation\n",
      "SLF4J: See http://www.slf4j.org/codes.html#StaticLoggerBinder for further details.\n",
      "                                                                                \r"
     ]
    }
   ],
   "source": [
    "from pyiceberg.schema import Schema\n",
    "from pyiceberg.types import TimestampType, DoubleType, StringType, NestedField\n",
    "\n",
    "iceberg_table_name = \"default.substrait.bids\"\n",
    "#spark.catalog.createTable(iceberg_table_name, schema=schema)\n",
    "\n",
    "write_schema = [\"id\", \"bid\", \"ask\", \"symbol\"]\n",
    "\n",
    "\n",
    "df = spark.createDataFrame([(datetime.datetime(2020, 5, 17), 10.2, 10.3, \"gold\")], write_schema)\n",
    "df.write.option(\"format\", \"iceberg\").mode(\"overwrite\").saveAsTable(iceberg_table_name)"
   ]
  },
  {
   "cell_type": "code",
   "execution_count": 17,
   "id": "c63da66b",
   "metadata": {},
   "outputs": [
    {
     "data": {
      "text/html": [
       "<div>\n",
       "<style scoped>\n",
       "    .dataframe tbody tr th:only-of-type {\n",
       "        vertical-align: middle;\n",
       "    }\n",
       "\n",
       "    .dataframe tbody tr th {\n",
       "        vertical-align: top;\n",
       "    }\n",
       "\n",
       "    .dataframe thead th {\n",
       "        text-align: right;\n",
       "    }\n",
       "</style>\n",
       "<table border=\"1\" class=\"dataframe\">\n",
       "  <thead>\n",
       "    <tr style=\"text-align: right;\">\n",
       "      <th></th>\n",
       "      <th>id</th>\n",
       "      <th>bid</th>\n",
       "      <th>ask</th>\n",
       "      <th>symbol</th>\n",
       "    </tr>\n",
       "  </thead>\n",
       "  <tbody>\n",
       "    <tr>\n",
       "      <th>0</th>\n",
       "      <td>2020-05-17 00:00:00+00:00</td>\n",
       "      <td>10.2</td>\n",
       "      <td>10.3</td>\n",
       "      <td>gold</td>\n",
       "    </tr>\n",
       "  </tbody>\n",
       "</table>\n",
       "</div>"
      ],
      "text/plain": [
       "                         id   bid   ask symbol\n",
       "0 2020-05-17 00:00:00+00:00  10.2  10.3   gold"
      ]
     },
     "execution_count": 17,
     "metadata": {},
     "output_type": "execute_result"
    }
   ],
   "source": [
    "tbl = iceberg_catalog.load_table('default.substrait.bids')\n",
    "sc = tbl.scan()\n",
    "df = sc.to_arrow().to_pandas()\n",
    "df"
   ]
  },
  {
   "cell_type": "code",
   "execution_count": 18,
   "id": "ee539c1a",
   "metadata": {},
   "outputs": [
    {
     "data": {
      "text/plain": [
       "[('default', 'substrait', 'bids')]"
      ]
     },
     "execution_count": 18,
     "metadata": {},
     "output_type": "execute_result"
    }
   ],
   "source": [
    "iceberg_catalog.list_tables(\"default.substrait\")"
   ]
  },
  {
   "cell_type": "code",
   "execution_count": 19,
   "id": "f8d62256",
   "metadata": {},
   "outputs": [
    {
     "data": {
      "text/plain": [
       "'s3://warehouse/sample/mytable'"
      ]
     },
     "execution_count": 19,
     "metadata": {},
     "output_type": "execute_result"
    }
   ],
   "source": [
    "tbl = iceberg_catalog.load_table(\"default.substrait.bids\")\n",
    "tbl.location()"
   ]
  },
  {
   "cell_type": "code",
   "execution_count": 20,
   "id": "f6cbe52f",
   "metadata": {},
   "outputs": [
    {
     "data": {
      "text/plain": [
       "pyiceberg.catalog.rest.RestCatalog"
      ]
     },
     "execution_count": 20,
     "metadata": {},
     "output_type": "execute_result"
    }
   ],
   "source": [
    "type(iceberg_catalog)"
   ]
  },
  {
   "cell_type": "code",
   "execution_count": 21,
   "id": "6881834b",
   "metadata": {},
   "outputs": [
    {
     "data": {
      "text/plain": [
       "[('default',), ('substrait',)]"
      ]
     },
     "execution_count": 21,
     "metadata": {},
     "output_type": "execute_result"
    }
   ],
   "source": [
    "iceberg_catalog.list_namespaces()"
   ]
  },
  {
   "cell_type": "code",
   "execution_count": 22,
   "id": "fb9ea080",
   "metadata": {},
   "outputs": [
    {
     "data": {
      "text/plain": [
       "[]"
      ]
     },
     "execution_count": 22,
     "metadata": {},
     "output_type": "execute_result"
    }
   ],
   "source": [
    "iceberg_catalog.list_tables('default')"
   ]
  },
  {
   "cell_type": "code",
   "execution_count": 23,
   "id": "3e8518d1",
   "metadata": {},
   "outputs": [
    {
     "name": "stdout",
     "output_type": "stream",
     "text": [
      "s3://warehouse/sample/mytable/data/00023-24-191d1ccf-68b0-47fd-9d2b-a75cbfb32728-00001.parquet\n"
     ]
    }
   ],
   "source": [
    "file_paths = []\n",
    "for file in sc.plan_files():\n",
    "    print(file.file.file_path)\n",
    "    file_paths.append(file.file.file_path)"
   ]
  },
  {
   "cell_type": "code",
   "execution_count": 24,
   "id": "7354a5a6",
   "metadata": {},
   "outputs": [
    {
     "data": {
      "text/plain": [
       "Schema(NestedField(field_id=1, name='id', field_type=TimestamptzType(), required=False), NestedField(field_id=2, name='bid', field_type=DoubleType(), required=False), NestedField(field_id=3, name='ask', field_type=DoubleType(), required=False), NestedField(field_id=4, name='symbol', field_type=StringType(), required=False), schema_id=1, identifier_field_ids=[])"
      ]
     },
     "execution_count": 24,
     "metadata": {},
     "output_type": "execute_result"
    }
   ],
   "source": [
    "tbl.schema()"
   ]
  },
  {
   "cell_type": "code",
   "execution_count": 25,
   "id": "e49ab4ec",
   "metadata": {},
   "outputs": [],
   "source": [
    "from pyiceberg.io.pyarrow import PyArrowFileIO"
   ]
  },
  {
   "cell_type": "code",
   "execution_count": 26,
   "id": "1c365b9f",
   "metadata": {},
   "outputs": [
    {
     "data": {
      "text/plain": [
       "(Schema(NestedField(field_id=1, name='id', field_type=TimestampType(), required=False), NestedField(field_id=2, name='bid', field_type=DoubleType(), required=False), NestedField(field_id=3, name='ask', field_type=DoubleType(), required=False), NestedField(field_id=4, name='symbol', field_type=StringType(), required=False), schema_id=0, identifier_field_ids=[]),\n",
       " 'warehouse/sample/mytable')"
      ]
     },
     "execution_count": 26,
     "metadata": {},
     "output_type": "execute_result"
    }
   ],
   "source": [
    "scheme, path = PyArrowFileIO.parse_location(tbl.location())\n",
    "schema, path"
   ]
  },
  {
   "cell_type": "code",
   "execution_count": 27,
   "id": "c75ddd22",
   "metadata": {},
   "outputs": [],
   "source": [
    "fs = tbl.io.get_fs(scheme)"
   ]
  },
  {
   "cell_type": "code",
   "execution_count": 28,
   "id": "00ea1156",
   "metadata": {},
   "outputs": [
    {
     "data": {
      "text/plain": [
       "{'uri': 'http://rest:8181',\n",
       " 's3.endpoint': 'http://minio:9000',\n",
       " 's3.access-key-id': 'admin',\n",
       " 's3.secret-access-key': 'password'}"
      ]
     },
     "execution_count": 28,
     "metadata": {},
     "output_type": "execute_result"
    }
   ],
   "source": [
    "iceberg_catalog.properties"
   ]
  },
  {
   "cell_type": "code",
   "execution_count": 29,
   "id": "40c53d48",
   "metadata": {},
   "outputs": [],
   "source": [
    "import ibis\n",
    "from ibis_substrait.compiler.core import SubstraitCompiler\n",
    "from icetrait.iceberg.process import ProcessSubstrait"
   ]
  },
  {
   "cell_type": "code",
   "execution_count": 30,
   "id": "e175f78e",
   "metadata": {},
   "outputs": [],
   "source": [
    "ibis_tb = ibis.table([(\"id\", \"date\"), (\"bid\", \"float\"), (\"ask\", \"int32\"), (\"symbol\", \"string\")], \"t\",)\n",
    "query = ibis_tb.select([\"id\", \"bid\", \"ask\", \"symbol\"])\n",
    "compiler = SubstraitCompiler()\n",
    "protobuf_msg = compiler.compile(query).SerializeToString()\n",
    "\n",
    "psb = ProcessSubstrait(protobuf_msg)"
   ]
  },
  {
   "cell_type": "code",
   "execution_count": 31,
   "id": "4dd866c7",
   "metadata": {},
   "outputs": [
    {
     "data": {
      "text/plain": [
       "(['parquet'],\n",
       " ['s3://warehouse/sample/mytable/data/00023-24-191d1ccf-68b0-47fd-9d2b-a75cbfb32728-00001.parquet'])"
      ]
     },
     "execution_count": 31,
     "metadata": {},
     "output_type": "execute_result"
    }
   ],
   "source": [
    "file_formats = [\"parquet\"]\n",
    "file_formats, file_paths"
   ]
  },
  {
   "cell_type": "code",
   "execution_count": 32,
   "id": "14fd49ed",
   "metadata": {},
   "outputs": [],
   "source": [
    "psb.update_local_files(file_paths, file_formats)"
   ]
  },
  {
   "cell_type": "code",
   "execution_count": 33,
   "id": "424330cd",
   "metadata": {},
   "outputs": [
    {
     "data": {
      "text/plain": [
       "relations {\n",
       "  root {\n",
       "    input {\n",
       "      project {\n",
       "        common {\n",
       "          emit {\n",
       "            output_mapping: 4\n",
       "            output_mapping: 5\n",
       "            output_mapping: 6\n",
       "            output_mapping: 7\n",
       "          }\n",
       "        }\n",
       "        input {\n",
       "          read {\n",
       "            common {\n",
       "              direct {\n",
       "              }\n",
       "            }\n",
       "            base_schema {\n",
       "              names: \"id\"\n",
       "              names: \"bid\"\n",
       "              names: \"ask\"\n",
       "              names: \"symbol\"\n",
       "              struct {\n",
       "                types {\n",
       "                  date {\n",
       "                    nullability: NULLABILITY_NULLABLE\n",
       "                  }\n",
       "                }\n",
       "                types {\n",
       "                  fp64 {\n",
       "                    nullability: NULLABILITY_NULLABLE\n",
       "                  }\n",
       "                }\n",
       "                types {\n",
       "                  i32 {\n",
       "                    nullability: NULLABILITY_NULLABLE\n",
       "                  }\n",
       "                }\n",
       "                types {\n",
       "                  string {\n",
       "                    nullability: NULLABILITY_NULLABLE\n",
       "                  }\n",
       "                }\n",
       "                nullability: NULLABILITY_REQUIRED\n",
       "              }\n",
       "            }\n",
       "            local_files {\n",
       "              items {\n",
       "                uri_file: \"s3://warehouse/sample/mytable/data/00023-24-191d1ccf-68b0-47fd-9d2b-a75cbfb32728-00001.parquet\"\n",
       "                parquet {\n",
       "                }\n",
       "              }\n",
       "            }\n",
       "          }\n",
       "        }\n",
       "        expressions {\n",
       "          selection {\n",
       "            direct_reference {\n",
       "              struct_field {\n",
       "              }\n",
       "            }\n",
       "            root_reference {\n",
       "            }\n",
       "          }\n",
       "        }\n",
       "        expressions {\n",
       "          selection {\n",
       "            direct_reference {\n",
       "              struct_field {\n",
       "                field: 1\n",
       "              }\n",
       "            }\n",
       "            root_reference {\n",
       "            }\n",
       "          }\n",
       "        }\n",
       "        expressions {\n",
       "          selection {\n",
       "            direct_reference {\n",
       "              struct_field {\n",
       "                field: 2\n",
       "              }\n",
       "            }\n",
       "            root_reference {\n",
       "            }\n",
       "          }\n",
       "        }\n",
       "        expressions {\n",
       "          selection {\n",
       "            direct_reference {\n",
       "              struct_field {\n",
       "                field: 3\n",
       "              }\n",
       "            }\n",
       "            root_reference {\n",
       "            }\n",
       "          }\n",
       "        }\n",
       "      }\n",
       "    }\n",
       "    names: \"id\"\n",
       "    names: \"bid\"\n",
       "    names: \"ask\"\n",
       "    names: \"symbol\"\n",
       "  }\n",
       "}\n",
       "version {\n",
       "  minor_number: 24\n",
       "  producer: \"ibis-substrait\"\n",
       "}"
      ]
     },
     "execution_count": 33,
     "metadata": {},
     "output_type": "execute_result"
    }
   ],
   "source": [
    "psb.plan"
   ]
  },
  {
   "cell_type": "code",
   "execution_count": 34,
   "id": "ea777182",
   "metadata": {},
   "outputs": [
    {
     "data": {
      "text/plain": [
       "relations {\n",
       "  root {\n",
       "    input {\n",
       "      project {\n",
       "        common {\n",
       "          emit {\n",
       "            output_mapping: 4\n",
       "            output_mapping: 5\n",
       "            output_mapping: 6\n",
       "            output_mapping: 7\n",
       "          }\n",
       "        }\n",
       "        input {\n",
       "          read {\n",
       "            common {\n",
       "              direct {\n",
       "              }\n",
       "            }\n",
       "            base_schema {\n",
       "              names: \"id\"\n",
       "              names: \"bid\"\n",
       "              names: \"ask\"\n",
       "              names: \"symbol\"\n",
       "              struct {\n",
       "                types {\n",
       "                  date {\n",
       "                    nullability: NULLABILITY_NULLABLE\n",
       "                  }\n",
       "                }\n",
       "                types {\n",
       "                  fp64 {\n",
       "                    nullability: NULLABILITY_NULLABLE\n",
       "                  }\n",
       "                }\n",
       "                types {\n",
       "                  i32 {\n",
       "                    nullability: NULLABILITY_NULLABLE\n",
       "                  }\n",
       "                }\n",
       "                types {\n",
       "                  string {\n",
       "                    nullability: NULLABILITY_NULLABLE\n",
       "                  }\n",
       "                }\n",
       "                nullability: NULLABILITY_REQUIRED\n",
       "              }\n",
       "            }\n",
       "            local_files {\n",
       "              items {\n",
       "                uri_file: \"s3://warehouse/sample/mytable/data/00023-24-191d1ccf-68b0-47fd-9d2b-a75cbfb32728-00001.parquet\"\n",
       "                parquet {\n",
       "                }\n",
       "              }\n",
       "            }\n",
       "          }\n",
       "        }\n",
       "        expressions {\n",
       "          selection {\n",
       "            direct_reference {\n",
       "              struct_field {\n",
       "              }\n",
       "            }\n",
       "            root_reference {\n",
       "            }\n",
       "          }\n",
       "        }\n",
       "        expressions {\n",
       "          selection {\n",
       "            direct_reference {\n",
       "              struct_field {\n",
       "                field: 1\n",
       "              }\n",
       "            }\n",
       "            root_reference {\n",
       "            }\n",
       "          }\n",
       "        }\n",
       "        expressions {\n",
       "          selection {\n",
       "            direct_reference {\n",
       "              struct_field {\n",
       "                field: 2\n",
       "              }\n",
       "            }\n",
       "            root_reference {\n",
       "            }\n",
       "          }\n",
       "        }\n",
       "        expressions {\n",
       "          selection {\n",
       "            direct_reference {\n",
       "              struct_field {\n",
       "                field: 3\n",
       "              }\n",
       "            }\n",
       "            root_reference {\n",
       "            }\n",
       "          }\n",
       "        }\n",
       "      }\n",
       "    }\n",
       "    names: \"id\"\n",
       "    names: \"bid\"\n",
       "    names: \"ask\"\n",
       "    names: \"symbol\"\n",
       "  }\n",
       "}\n",
       "version {\n",
       "  minor_number: 24\n",
       "  producer: \"ibis-substrait\"\n",
       "}"
      ]
     },
     "execution_count": 34,
     "metadata": {},
     "output_type": "execute_result"
    }
   ],
   "source": [
    "psb.plan"
   ]
  },
  {
   "cell_type": "code",
   "execution_count": null,
   "id": "7a9cae12",
   "metadata": {},
   "outputs": [],
   "source": [
    "!pip install duckdb==0.7.1"
   ]
  },
  {
   "cell_type": "code",
   "execution_count": 35,
   "id": "f3a70f61",
   "metadata": {},
   "outputs": [],
   "source": [
    "import duckdb"
   ]
  },
  {
   "cell_type": "code",
   "execution_count": 36,
   "id": "f76c2093",
   "metadata": {},
   "outputs": [
    {
     "data": {
      "text/plain": [
       "'0.7.1'"
      ]
     },
     "execution_count": 36,
     "metadata": {},
     "output_type": "execute_result"
    }
   ],
   "source": [
    "duckdb.__version__"
   ]
  },
  {
   "cell_type": "code",
   "execution_count": 37,
   "id": "e9c08191",
   "metadata": {},
   "outputs": [],
   "source": [
    "con = duckdb.connect()\n",
    "con.install_extension(\"substrait\")\n",
    "con.load_extension(\"substrait\")"
   ]
  },
  {
   "cell_type": "code",
   "execution_count": null,
   "id": "7740113e",
   "metadata": {},
   "outputs": [],
   "source": [
    "!pip install httpfs"
   ]
  },
  {
   "cell_type": "code",
   "execution_count": 38,
   "id": "18b98e32",
   "metadata": {},
   "outputs": [],
   "source": [
    "con.install_extension(\"httpfs\")"
   ]
  },
  {
   "cell_type": "code",
   "execution_count": 39,
   "id": "a64045cf",
   "metadata": {},
   "outputs": [],
   "source": [
    "con.load_extension(\"httpfs\")"
   ]
  },
  {
   "cell_type": "code",
   "execution_count": 40,
   "id": "8b40a6db",
   "metadata": {},
   "outputs": [
    {
     "data": {
      "text/plain": [
       "{'uri': 'http://rest:8181',\n",
       " 's3.endpoint': 'http://minio:9000',\n",
       " 's3.access-key-id': 'admin',\n",
       " 's3.secret-access-key': 'password'}"
      ]
     },
     "execution_count": 40,
     "metadata": {},
     "output_type": "execute_result"
    }
   ],
   "source": [
    "iceberg_catalog.properties"
   ]
  },
  {
   "cell_type": "code",
   "execution_count": 41,
   "id": "d119a3af",
   "metadata": {},
   "outputs": [
    {
     "data": {
      "text/plain": [
       "<duckdb.DuckDBPyConnection at 0x7f8212f90b70>"
      ]
     },
     "execution_count": 41,
     "metadata": {},
     "output_type": "execute_result"
    }
   ],
   "source": [
    "con.execute(query=\"SET s3_endpoint='minio:9000';\")"
   ]
  },
  {
   "cell_type": "code",
   "execution_count": 42,
   "id": "b84261fc",
   "metadata": {},
   "outputs": [
    {
     "data": {
      "text/plain": [
       "<duckdb.DuckDBPyConnection at 0x7f8212f90b70>"
      ]
     },
     "execution_count": 42,
     "metadata": {},
     "output_type": "execute_result"
    }
   ],
   "source": [
    "con.execute(query=\"SET s3_region='us-east-1';\")"
   ]
  },
  {
   "cell_type": "code",
   "execution_count": 43,
   "id": "98cb0617",
   "metadata": {},
   "outputs": [
    {
     "data": {
      "text/plain": [
       "<duckdb.DuckDBPyConnection at 0x7f8212f90b70>"
      ]
     },
     "execution_count": 43,
     "metadata": {},
     "output_type": "execute_result"
    }
   ],
   "source": [
    "con.execute(query=\"SET s3_access_key_id='admin';\")"
   ]
  },
  {
   "cell_type": "code",
   "execution_count": 44,
   "id": "e028b673",
   "metadata": {},
   "outputs": [
    {
     "data": {
      "text/plain": [
       "<duckdb.DuckDBPyConnection at 0x7f8212f90b70>"
      ]
     },
     "execution_count": 44,
     "metadata": {},
     "output_type": "execute_result"
    }
   ],
   "source": [
    "con.execute(query=\"SET s3_secret_access_key='password';\")"
   ]
  },
  {
   "cell_type": "code",
   "execution_count": 45,
   "id": "852c2d18",
   "metadata": {},
   "outputs": [
    {
     "data": {
      "text/plain": [
       "<duckdb.DuckDBPyConnection at 0x7f8212f90b70>"
      ]
     },
     "execution_count": 45,
     "metadata": {},
     "output_type": "execute_result"
    }
   ],
   "source": [
    "con.execute(query=\"SET s3_use_ssl=false;\")"
   ]
  },
  {
   "cell_type": "code",
   "execution_count": 58,
   "id": "770b1a61",
   "metadata": {},
   "outputs": [
    {
     "data": {
      "text/plain": [
       "<duckdb.DuckDBPyConnection at 0x7f8212f90b70>"
      ]
     },
     "execution_count": 58,
     "metadata": {},
     "output_type": "execute_result"
    }
   ],
   "source": [
    "con.execute(query=\"SET s3_url_style='path';\")"
   ]
  },
  {
   "cell_type": "code",
   "execution_count": 59,
   "id": "c14b317e",
   "metadata": {},
   "outputs": [
    {
     "ename": "IOException",
     "evalue": "IO Error: Unable to connect to URL \"https://warehouse.s3.amazonaws.com/sample/mytable/data/00023-24-191d1ccf-68b0-47fd-9d2b-a75cbfb32728-00001.parquet\": 400 (Bad Request)",
     "output_type": "error",
     "traceback": [
      "\u001b[0;31m---------------------------------------------------------------------------\u001b[0m",
      "\u001b[0;31mIOException\u001b[0m                               Traceback (most recent call last)",
      "Cell \u001b[0;32mIn[59], line 1\u001b[0m\n\u001b[0;32m----> 1\u001b[0m query_result \u001b[38;5;241m=\u001b[39m \u001b[43mcon\u001b[49m\u001b[38;5;241;43m.\u001b[39;49m\u001b[43mfrom_substrait\u001b[49m\u001b[43m(\u001b[49m\u001b[43mproto\u001b[49m\u001b[38;5;241;43m=\u001b[39;49m\u001b[43mpsb\u001b[49m\u001b[38;5;241;43m.\u001b[39;49m\u001b[43mplan\u001b[49m\u001b[38;5;241;43m.\u001b[39;49m\u001b[43mSerializeToString\u001b[49m\u001b[43m(\u001b[49m\u001b[43m)\u001b[49m\u001b[43m)\u001b[49m\n",
      "\u001b[0;31mIOException\u001b[0m: IO Error: Unable to connect to URL \"https://warehouse.s3.amazonaws.com/sample/mytable/data/00023-24-191d1ccf-68b0-47fd-9d2b-a75cbfb32728-00001.parquet\": 400 (Bad Request)"
     ]
    }
   ],
   "source": [
    "query_result = con.from_substrait(proto=psb.plan.SerializeToString())"
   ]
  },
  {
   "cell_type": "code",
   "execution_count": 60,
   "id": "043f9b32",
   "metadata": {},
   "outputs": [
    {
     "name": "stdout",
     "output_type": "stream",
     "text": [
      "{\n",
      "  \"relations\": [\n",
      "    {\n",
      "      \"root\": {\n",
      "        \"input\": {\n",
      "          \"project\": {\n",
      "            \"common\": {\n",
      "              \"emit\": {\n",
      "                \"outputMapping\": [\n",
      "                  4,\n",
      "                  5,\n",
      "                  6,\n",
      "                  7\n",
      "                ]\n",
      "              }\n",
      "            },\n",
      "            \"input\": {\n",
      "              \"read\": {\n",
      "                \"common\": {\n",
      "                  \"direct\": {}\n",
      "                },\n",
      "                \"baseSchema\": {\n",
      "                  \"names\": [\n",
      "                    \"id\",\n",
      "                    \"bid\",\n",
      "                    \"ask\",\n",
      "                    \"symbol\"\n",
      "                  ],\n",
      "                  \"struct\": {\n",
      "                    \"types\": [\n",
      "                      {\n",
      "                        \"date\": {\n",
      "                          \"nullability\": \"NULLABILITY_NULLABLE\"\n",
      "                        }\n",
      "                      },\n",
      "                      {\n",
      "                        \"fp64\": {\n",
      "                          \"nullability\": \"NULLABILITY_NULLABLE\"\n",
      "                        }\n",
      "                      },\n",
      "                      {\n",
      "                        \"i32\": {\n",
      "                          \"nullability\": \"NULLABILITY_NULLABLE\"\n",
      "                        }\n",
      "                      },\n",
      "                      {\n",
      "                        \"string\": {\n",
      "                          \"nullability\": \"NULLABILITY_NULLABLE\"\n",
      "                        }\n",
      "                      }\n",
      "                    ],\n",
      "                    \"nullability\": \"NULLABILITY_REQUIRED\"\n",
      "                  }\n",
      "                },\n",
      "                \"localFiles\": {\n",
      "                  \"items\": [\n",
      "                    {\n",
      "                      \"uriFile\": \"s3://warehouse/sample/mytable/data/00023-24-191d1ccf-68b0-47fd-9d2b-a75cbfb32728-00001.parquet\",\n",
      "                      \"parquet\": {}\n",
      "                    }\n",
      "                  ]\n",
      "                }\n",
      "              }\n",
      "            },\n",
      "            \"expressions\": [\n",
      "              {\n",
      "                \"selection\": {\n",
      "                  \"directReference\": {\n",
      "                    \"structField\": {}\n",
      "                  },\n",
      "                  \"rootReference\": {}\n",
      "                }\n",
      "              },\n",
      "              {\n",
      "                \"selection\": {\n",
      "                  \"directReference\": {\n",
      "                    \"structField\": {\n",
      "                      \"field\": 1\n",
      "                    }\n",
      "                  },\n",
      "                  \"rootReference\": {}\n",
      "                }\n",
      "              },\n",
      "              {\n",
      "                \"selection\": {\n",
      "                  \"directReference\": {\n",
      "                    \"structField\": {\n",
      "                      \"field\": 2\n",
      "                    }\n",
      "                  },\n",
      "                  \"rootReference\": {}\n",
      "                }\n",
      "              },\n",
      "              {\n",
      "                \"selection\": {\n",
      "                  \"directReference\": {\n",
      "                    \"structField\": {\n",
      "                      \"field\": 3\n",
      "                    }\n",
      "                  },\n",
      "                  \"rootReference\": {}\n",
      "                }\n",
      "              }\n",
      "            ]\n",
      "          }\n",
      "        },\n",
      "        \"names\": [\n",
      "          \"id\",\n",
      "          \"bid\",\n",
      "          \"ask\",\n",
      "          \"symbol\"\n",
      "        ]\n",
      "      }\n",
      "    }\n",
      "  ],\n",
      "  \"version\": {\n",
      "    \"minorNumber\": 24,\n",
      "    \"producer\": \"ibis-substrait\"\n",
      "  }\n",
      "}\n"
     ]
    }
   ],
   "source": [
    "from google.protobuf.json_format import MessageToJson\n",
    "\n",
    "json_obj = MessageToJson(psb.plan)\n",
    "print(json_obj)"
   ]
  },
  {
   "cell_type": "code",
   "execution_count": 61,
   "id": "f53ee1fa",
   "metadata": {},
   "outputs": [
    {
     "data": {
      "text/plain": [
       "'0.7.1'"
      ]
     },
     "execution_count": 61,
     "metadata": {},
     "output_type": "execute_result"
    }
   ],
   "source": [
    "duckdb.__version__"
   ]
  },
  {
   "cell_type": "code",
   "execution_count": 62,
   "id": "20b97282",
   "metadata": {},
   "outputs": [
    {
     "data": {
      "text/plain": [
       "\"SELECT * FROM 's3://warehouse/sample/mytable/data/00023-24-191d1ccf-68b0-47fd-9d2b-a75cbfb32728-00001.parquet';\""
      ]
     },
     "execution_count": 62,
     "metadata": {},
     "output_type": "execute_result"
    }
   ],
   "source": [
    "sql_query=f\"SELECT * FROM '{file_paths[0]}';\"\n",
    "sql_query"
   ]
  },
  {
   "cell_type": "code",
   "execution_count": 63,
   "id": "54caae2e",
   "metadata": {},
   "outputs": [],
   "source": [
    "sql_query_2 = \"SELECT * FROM \""
   ]
  },
  {
   "cell_type": "code",
   "execution_count": 64,
   "id": "e720da72",
   "metadata": {},
   "outputs": [],
   "source": [
    "val = con.execute(query=sql_query)"
   ]
  },
  {
   "cell_type": "code",
   "execution_count": 65,
   "id": "cc736225",
   "metadata": {},
   "outputs": [
    {
     "data": {
      "text/html": [
       "<div>\n",
       "<style scoped>\n",
       "    .dataframe tbody tr th:only-of-type {\n",
       "        vertical-align: middle;\n",
       "    }\n",
       "\n",
       "    .dataframe tbody tr th {\n",
       "        vertical-align: top;\n",
       "    }\n",
       "\n",
       "    .dataframe thead th {\n",
       "        text-align: right;\n",
       "    }\n",
       "</style>\n",
       "<table border=\"1\" class=\"dataframe\">\n",
       "  <thead>\n",
       "    <tr style=\"text-align: right;\">\n",
       "      <th></th>\n",
       "      <th>id</th>\n",
       "      <th>bid</th>\n",
       "      <th>ask</th>\n",
       "      <th>symbol</th>\n",
       "    </tr>\n",
       "  </thead>\n",
       "  <tbody>\n",
       "    <tr>\n",
       "      <th>0</th>\n",
       "      <td>2020-05-17 00:00:00+00:00</td>\n",
       "      <td>10.2</td>\n",
       "      <td>10.3</td>\n",
       "      <td>gold</td>\n",
       "    </tr>\n",
       "  </tbody>\n",
       "</table>\n",
       "</div>"
      ],
      "text/plain": [
       "                         id   bid   ask symbol\n",
       "0 2020-05-17 00:00:00+00:00  10.2  10.3   gold"
      ]
     },
     "execution_count": 65,
     "metadata": {},
     "output_type": "execute_result"
    }
   ],
   "source": [
    "val.df()"
   ]
  },
  {
   "cell_type": "code",
   "execution_count": null,
   "id": "5ae04047",
   "metadata": {},
   "outputs": [],
   "source": []
  },
  {
   "cell_type": "code",
   "execution_count": null,
   "id": "13bfe652",
   "metadata": {},
   "outputs": [],
   "source": []
  }
 ],
 "metadata": {
  "kernelspec": {
   "display_name": "Python 3 (ipykernel)",
   "language": "python",
   "name": "python3"
  },
  "language_info": {
   "codemirror_mode": {
    "name": "ipython",
    "version": 3
   },
   "file_extension": ".py",
   "mimetype": "text/x-python",
   "name": "python",
   "nbconvert_exporter": "python",
   "pygments_lexer": "ipython3",
   "version": "3.9.16"
  }
 },
 "nbformat": 4,
 "nbformat_minor": 5
}
