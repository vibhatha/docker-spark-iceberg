{
 "cells": [
  {
   "cell_type": "code",
   "execution_count": 1,
   "id": "bfc0eb7c",
   "metadata": {},
   "outputs": [],
   "source": [
    "from icetrait.substrait.visitor import SubstraitPlanEditor, visit_and_update, RelVisitor, RelUpdateVisitor\n",
    "from icetrait.duckdb.wrapper import DuckdbSubstrait\n",
    "import duckdb"
   ]
  },
  {
   "cell_type": "markdown",
   "id": "978bdbf5",
   "metadata": {},
   "source": [
    "## Initialize Spark Environment"
   ]
  },
  {
   "cell_type": "code",
   "execution_count": 2,
   "id": "f046e894",
   "metadata": {},
   "outputs": [
    {
     "name": "stdout",
     "output_type": "stream",
     "text": [
      "23/05/11 13:35:09 WARN SparkSession: Using an existing Spark session; only runtime SQL configurations will take effect.\n"
     ]
    }
   ],
   "source": [
    "import findspark\n",
    "findspark.init()\n",
    "\n",
    "from pyspark.sql import SparkSession\n",
    "\n",
    "spark = (\n",
    "    SparkSession.builder.master(\"local\")\n",
    "    .appName(\"IcebergPySpark\")\n",
    "    .config(\"spark.sql.extensions\", \"org.apache.iceberg.spark.extensions.IcebergSparkSessionExtensions\")\n",
    "    .config(\"spark.sql.catalog.demo\", \"org.apache.iceberg.spark.SparkCatalog\")\n",
    "    .config(\"spark.sql.catalog.demo.catalog-impl\", \"org.apache.iceberg.rest.RESTCatalog\")\n",
    "    .config(\"spark.sql.catalog.demo.uri\", \"http://rest:8181\")\n",
    "    .config(\"spark.sql.catalog.demo.s3.endpoint\", \"http://minio:9000\")\n",
    "    .config(\"spark.sql.defaultCatalog\", \"demo\")\n",
    "    .config(\"spark.eventLog.enabled\", \"true\")\n",
    "    .config(\"spark.eventLog.dir\", \"/home/iceberg/spark-events\")\n",
    "    .config(\"spark.history.fs.logDirectory\", \"/home/iceberg/spark-events\")\n",
    "    .config(\"spark.sql.catalogImplementation\", \"/home/iceberg/spark-events\")\n",
    "    .getOrCreate()\n",
    ")"
   ]
  },
  {
   "cell_type": "code",
   "execution_count": 3,
   "id": "495acc2a",
   "metadata": {},
   "outputs": [
    {
     "name": "stdout",
     "output_type": "stream",
     "text": [
      "23/05/11 13:35:09 WARN SparkSession: Using an existing Spark session; only runtime SQL configurations will take effect.\n"
     ]
    },
    {
     "data": {
      "text/html": [
       "<table>\n",
       "    <tr>\n",
       "    </tr>\n",
       "</table>"
      ],
      "text/plain": [
       "++\n",
       "||\n",
       "++\n",
       "++"
      ]
     },
     "execution_count": 3,
     "metadata": {},
     "output_type": "execute_result"
    }
   ],
   "source": [
    "%%sql\n",
    "\n",
    "CREATE DATABASE IF NOT EXISTS nyc_demo;"
   ]
  },
  {
   "cell_type": "code",
   "execution_count": 5,
   "id": "634298f0",
   "metadata": {},
   "outputs": [
    {
     "name": "stdout",
     "output_type": "stream",
     "text": [
      "23/05/11 13:35:13 WARN SparkSession: Using an existing Spark session; only runtime SQL configurations will take effect.\n"
     ]
    },
    {
     "data": {
      "text/html": [
       "<table>\n",
       "    <tr>\n",
       "        <th>namespace</th>\n",
       "    </tr>\n",
       "    <tr>\n",
       "        <td>nyc_demo</td>\n",
       "    </tr>\n",
       "</table>"
      ],
      "text/plain": [
       "+-----------+\n",
       "| namespace |\n",
       "+-----------+\n",
       "|  nyc_demo |\n",
       "+-----------+"
      ]
     },
     "execution_count": 5,
     "metadata": {},
     "output_type": "execute_result"
    }
   ],
   "source": [
    "%%sql\n",
    "\n",
    "show databases;"
   ]
  },
  {
   "cell_type": "code",
   "execution_count": 6,
   "id": "a1faf2fb",
   "metadata": {},
   "outputs": [
    {
     "data": {
      "text/plain": [
       "<pyiceberg.catalog.rest.RestCatalog at 0x7f3caa4c1280>"
      ]
     },
     "execution_count": 6,
     "metadata": {},
     "output_type": "execute_result"
    }
   ],
   "source": [
    "from pyiceberg.catalog import load_catalog\n",
    "from pyiceberg.expressions import GreaterThanOrEqual\n",
    "\n",
    "iceberg_catalog = load_catalog('default')\n",
    "iceberg_catalog"
   ]
  },
  {
   "cell_type": "code",
   "execution_count": 7,
   "id": "d19b06ba",
   "metadata": {},
   "outputs": [
    {
     "data": {
      "text/plain": [
       "[('nyc_demo',)]"
      ]
     },
     "execution_count": 7,
     "metadata": {},
     "output_type": "execute_result"
    }
   ],
   "source": [
    "iceberg_catalog.list_namespaces()"
   ]
  },
  {
   "cell_type": "code",
   "execution_count": 8,
   "id": "b9988de8",
   "metadata": {},
   "outputs": [
    {
     "name": "stderr",
     "output_type": "stream",
     "text": [
      "SLF4J: Failed to load class \"org.slf4j.impl.StaticLoggerBinder\".\n",
      "SLF4J: Defaulting to no-operation (NOP) logger implementation\n",
      "SLF4J: See http://www.slf4j.org/codes.html#StaticLoggerBinder for further details.\n",
      "                                                                                \r"
     ]
    }
   ],
   "source": [
    "df = spark.read.parquet(\"/home/iceberg/data/yellow_tripdata_2021-04.parquet\")\n",
    "df.write.saveAsTable(\"nyc_demo.taxis_sample\")"
   ]
  },
  {
   "cell_type": "markdown",
   "id": "0b445cad",
   "metadata": {},
   "source": [
    "## Simulating Iceberg and Icetrait on Simple Query"
   ]
  },
  {
   "cell_type": "code",
   "execution_count": 9,
   "id": "cc85f33c",
   "metadata": {},
   "outputs": [],
   "source": [
    "iceberg_table = iceberg_catalog.load_table(\"nyc_demo.taxis_sample\")"
   ]
  },
  {
   "cell_type": "code",
   "execution_count": 21,
   "id": "e11dac47",
   "metadata": {},
   "outputs": [
    {
     "data": {
      "text/html": [
       "<div>\n",
       "<style scoped>\n",
       "    .dataframe tbody tr th:only-of-type {\n",
       "        vertical-align: middle;\n",
       "    }\n",
       "\n",
       "    .dataframe tbody tr th {\n",
       "        vertical-align: top;\n",
       "    }\n",
       "\n",
       "    .dataframe thead th {\n",
       "        text-align: right;\n",
       "    }\n",
       "</style>\n",
       "<table border=\"1\" class=\"dataframe\">\n",
       "  <thead>\n",
       "    <tr style=\"text-align: right;\">\n",
       "      <th></th>\n",
       "      <th>VendorID</th>\n",
       "      <th>tpep_pickup_datetime</th>\n",
       "      <th>tpep_dropoff_datetime</th>\n",
       "      <th>passenger_count</th>\n",
       "      <th>trip_distance</th>\n",
       "      <th>RatecodeID</th>\n",
       "      <th>store_and_fwd_flag</th>\n",
       "      <th>PULocationID</th>\n",
       "      <th>DOLocationID</th>\n",
       "      <th>payment_type</th>\n",
       "      <th>fare_amount</th>\n",
       "      <th>extra</th>\n",
       "      <th>mta_tax</th>\n",
       "      <th>tip_amount</th>\n",
       "      <th>tolls_amount</th>\n",
       "      <th>improvement_surcharge</th>\n",
       "      <th>total_amount</th>\n",
       "      <th>congestion_surcharge</th>\n",
       "      <th>airport_fee</th>\n",
       "    </tr>\n",
       "  </thead>\n",
       "  <tbody>\n",
       "    <tr>\n",
       "      <th>0</th>\n",
       "      <td>1</td>\n",
       "      <td>2021-04-01 00:00:18+00:00</td>\n",
       "      <td>2021-04-01 00:21:54+00:00</td>\n",
       "      <td>1.0</td>\n",
       "      <td>8.40</td>\n",
       "      <td>1.0</td>\n",
       "      <td>N</td>\n",
       "      <td>79</td>\n",
       "      <td>116</td>\n",
       "      <td>1</td>\n",
       "      <td>25.5</td>\n",
       "      <td>3.0</td>\n",
       "      <td>0.5</td>\n",
       "      <td>5.85</td>\n",
       "      <td>0.0</td>\n",
       "      <td>0.3</td>\n",
       "      <td>35.15</td>\n",
       "      <td>2.5</td>\n",
       "      <td>0.0</td>\n",
       "    </tr>\n",
       "    <tr>\n",
       "      <th>1</th>\n",
       "      <td>1</td>\n",
       "      <td>2021-04-01 00:42:37+00:00</td>\n",
       "      <td>2021-04-01 00:46:23+00:00</td>\n",
       "      <td>1.0</td>\n",
       "      <td>0.90</td>\n",
       "      <td>1.0</td>\n",
       "      <td>N</td>\n",
       "      <td>75</td>\n",
       "      <td>236</td>\n",
       "      <td>2</td>\n",
       "      <td>5.0</td>\n",
       "      <td>3.0</td>\n",
       "      <td>0.5</td>\n",
       "      <td>0.00</td>\n",
       "      <td>0.0</td>\n",
       "      <td>0.3</td>\n",
       "      <td>8.80</td>\n",
       "      <td>2.5</td>\n",
       "      <td>0.0</td>\n",
       "    </tr>\n",
       "    <tr>\n",
       "      <th>2</th>\n",
       "      <td>1</td>\n",
       "      <td>2021-04-01 00:57:56+00:00</td>\n",
       "      <td>2021-04-01 01:08:22+00:00</td>\n",
       "      <td>1.0</td>\n",
       "      <td>3.40</td>\n",
       "      <td>1.0</td>\n",
       "      <td>N</td>\n",
       "      <td>236</td>\n",
       "      <td>168</td>\n",
       "      <td>2</td>\n",
       "      <td>11.5</td>\n",
       "      <td>3.0</td>\n",
       "      <td>0.5</td>\n",
       "      <td>0.00</td>\n",
       "      <td>0.0</td>\n",
       "      <td>0.3</td>\n",
       "      <td>15.30</td>\n",
       "      <td>2.5</td>\n",
       "      <td>0.0</td>\n",
       "    </tr>\n",
       "    <tr>\n",
       "      <th>3</th>\n",
       "      <td>1</td>\n",
       "      <td>2021-04-01 00:01:58+00:00</td>\n",
       "      <td>2021-04-01 00:54:27+00:00</td>\n",
       "      <td>1.0</td>\n",
       "      <td>0.00</td>\n",
       "      <td>1.0</td>\n",
       "      <td>N</td>\n",
       "      <td>47</td>\n",
       "      <td>61</td>\n",
       "      <td>1</td>\n",
       "      <td>44.2</td>\n",
       "      <td>0.0</td>\n",
       "      <td>0.5</td>\n",
       "      <td>0.00</td>\n",
       "      <td>0.0</td>\n",
       "      <td>0.3</td>\n",
       "      <td>45.00</td>\n",
       "      <td>0.0</td>\n",
       "      <td>0.0</td>\n",
       "    </tr>\n",
       "    <tr>\n",
       "      <th>4</th>\n",
       "      <td>2</td>\n",
       "      <td>2021-04-01 00:24:55+00:00</td>\n",
       "      <td>2021-04-01 00:34:33+00:00</td>\n",
       "      <td>1.0</td>\n",
       "      <td>1.96</td>\n",
       "      <td>1.0</td>\n",
       "      <td>N</td>\n",
       "      <td>238</td>\n",
       "      <td>152</td>\n",
       "      <td>1</td>\n",
       "      <td>9.0</td>\n",
       "      <td>0.5</td>\n",
       "      <td>0.5</td>\n",
       "      <td>3.09</td>\n",
       "      <td>0.0</td>\n",
       "      <td>0.3</td>\n",
       "      <td>13.39</td>\n",
       "      <td>0.0</td>\n",
       "      <td>0.0</td>\n",
       "    </tr>\n",
       "  </tbody>\n",
       "</table>\n",
       "</div>"
      ],
      "text/plain": [
       "   VendorID      tpep_pickup_datetime     tpep_dropoff_datetime  \\\n",
       "0         1 2021-04-01 00:00:18+00:00 2021-04-01 00:21:54+00:00   \n",
       "1         1 2021-04-01 00:42:37+00:00 2021-04-01 00:46:23+00:00   \n",
       "2         1 2021-04-01 00:57:56+00:00 2021-04-01 01:08:22+00:00   \n",
       "3         1 2021-04-01 00:01:58+00:00 2021-04-01 00:54:27+00:00   \n",
       "4         2 2021-04-01 00:24:55+00:00 2021-04-01 00:34:33+00:00   \n",
       "\n",
       "   passenger_count  trip_distance  RatecodeID store_and_fwd_flag  \\\n",
       "0              1.0           8.40         1.0                  N   \n",
       "1              1.0           0.90         1.0                  N   \n",
       "2              1.0           3.40         1.0                  N   \n",
       "3              1.0           0.00         1.0                  N   \n",
       "4              1.0           1.96         1.0                  N   \n",
       "\n",
       "   PULocationID  DOLocationID  payment_type  fare_amount  extra  mta_tax  \\\n",
       "0            79           116             1         25.5    3.0      0.5   \n",
       "1            75           236             2          5.0    3.0      0.5   \n",
       "2           236           168             2         11.5    3.0      0.5   \n",
       "3            47            61             1         44.2    0.0      0.5   \n",
       "4           238           152             1          9.0    0.5      0.5   \n",
       "\n",
       "   tip_amount  tolls_amount  improvement_surcharge  total_amount  \\\n",
       "0        5.85           0.0                    0.3         35.15   \n",
       "1        0.00           0.0                    0.3          8.80   \n",
       "2        0.00           0.0                    0.3         15.30   \n",
       "3        0.00           0.0                    0.3         45.00   \n",
       "4        3.09           0.0                    0.3         13.39   \n",
       "\n",
       "   congestion_surcharge  airport_fee  \n",
       "0                   2.5          0.0  \n",
       "1                   2.5          0.0  \n",
       "2                   2.5          0.0  \n",
       "3                   0.0          0.0  \n",
       "4                   0.0          0.0  "
      ]
     },
     "execution_count": 21,
     "metadata": {},
     "output_type": "execute_result"
    }
   ],
   "source": [
    "iceberg_df = iceberg_table.scan().to_pandas()\n",
    "iceberg_df.head()"
   ]
  },
  {
   "cell_type": "code",
   "execution_count": 11,
   "id": "315934ec",
   "metadata": {},
   "outputs": [],
   "source": [
    "sql_query = \"SELECT * FROM nyc_demo.taxis_sample;\""
   ]
  },
  {
   "cell_type": "code",
   "execution_count": 12,
   "id": "02fdb92b",
   "metadata": {},
   "outputs": [],
   "source": [
    "def setup_duckdb():\n",
    "    con = duckdb.connect()\n",
    "    con.install_extension(\"substrait\")\n",
    "    con.load_extension(\"substrait\")\n",
    "    return con"
   ]
  },
  {
   "cell_type": "code",
   "execution_count": 13,
   "id": "0d16ec7c",
   "metadata": {},
   "outputs": [
    {
     "data": {
      "text/plain": [
       "<duckdb.DuckDBPyConnection at 0x7f3ca96c8df0>"
      ]
     },
     "execution_count": 13,
     "metadata": {},
     "output_type": "execute_result"
    }
   ],
   "source": [
    "con = setup_duckdb()\n",
    "create_schema = \"CREATE SCHEMA nyc_demo;\"\n",
    "creation_query = \"\"\"\n",
    "CREATE TABLE nyc_demo.taxis_sample (\n",
    "    VendorID              bigint,\n",
    "    tpep_pickup_datetime  timestamp,\n",
    "    tpep_dropoff_datetime timestamp,\n",
    "    passenger_count       double,\n",
    "    trip_distance         double,\n",
    "    RatecodeID            double,\n",
    "    store_and_fwd_flag    string,\n",
    "    PULocationID          bigint,\n",
    "    DOLocationID          bigint,\n",
    "    payment_type          bigint,\n",
    "    fare_amount           double,\n",
    "    extra                 double,\n",
    "    mta_tax               double,\n",
    "    tip_amount            double,\n",
    "    tolls_amount          double,\n",
    "    improvement_surcharge double,\n",
    "    total_amount          double,\n",
    "    congestion_surcharge  double,\n",
    "    airport_fee           double\n",
    ");\n",
    "\"\"\"\n",
    "con.execute(create_schema)\n",
    "con.execute(creation_query)"
   ]
  },
  {
   "cell_type": "code",
   "execution_count": 14,
   "id": "60c35c78",
   "metadata": {},
   "outputs": [],
   "source": [
    "proto_bytes = con.get_substrait(\"SELECT * FROM nyc_demo.taxis_sample;\").fetchone()[0]"
   ]
  },
  {
   "cell_type": "code",
   "execution_count": 15,
   "id": "968149e5",
   "metadata": {},
   "outputs": [],
   "source": [
    "!mkdir /home/iceberg/notebooks/s3"
   ]
  },
  {
   "cell_type": "code",
   "execution_count": 16,
   "id": "e28199d7",
   "metadata": {},
   "outputs": [],
   "source": [
    "class NamedTableUpdateVisitor(RelVisitor):\n",
    "        \n",
    "        def __init__(self, table_name):\n",
    "            self._table_name = table_name\n",
    "        \n",
    "        def visit_aggregate(self, rel):\n",
    "            pass\n",
    "        \n",
    "        def visit_cross(self, rel):\n",
    "            pass\n",
    "        \n",
    "        def visit_fetch(self, rel):\n",
    "            pass\n",
    "        \n",
    "        def visit_filter(self, rel):\n",
    "            pass\n",
    "        \n",
    "        def visit_join(self, rel):\n",
    "            pass\n",
    "        \n",
    "        def visit_hashjoin(self, rel):\n",
    "            pass\n",
    "        \n",
    "        def visit_merge(self, rel):\n",
    "            pass\n",
    "        \n",
    "        def visit_project(self, rel):\n",
    "            pass\n",
    "        \n",
    "        def visit_read(self, read_rel):\n",
    "            named_table = read_rel.NamedTable()\n",
    "            named_table.names.append(self._table_name)\n",
    "            read_rel.named_table.CopyFrom(named_table)\n",
    "        \n",
    "        def visit_set(self, rel):\n",
    "            pass\n",
    "        \n",
    "        def visit_sort(self, rel):\n",
    "            pass\n",
    "        \n",
    "editor = SubstraitPlanEditor(proto_bytes)\n",
    "update_visitor = NamedTableUpdateVisitor(\"nyc_demo.taxis_sample\")\n",
    "visit_and_update(editor.rel, update_visitor)\n",
    "proto_bytes = editor.plan.SerializeToString()"
   ]
  },
  {
   "cell_type": "code",
   "execution_count": 17,
   "id": "cdaa64cc",
   "metadata": {},
   "outputs": [],
   "source": [
    "duckdb_substrait = DuckdbSubstrait(proto_bytes, \"default\", \"/home/iceberg/notebooks/s3\")\n",
    "results = duckdb_substrait.execute()"
   ]
  },
  {
   "cell_type": "code",
   "execution_count": 22,
   "id": "8c520cc1",
   "metadata": {},
   "outputs": [
    {
     "data": {
      "text/html": [
       "<div>\n",
       "<style scoped>\n",
       "    .dataframe tbody tr th:only-of-type {\n",
       "        vertical-align: middle;\n",
       "    }\n",
       "\n",
       "    .dataframe tbody tr th {\n",
       "        vertical-align: top;\n",
       "    }\n",
       "\n",
       "    .dataframe thead th {\n",
       "        text-align: right;\n",
       "    }\n",
       "</style>\n",
       "<table border=\"1\" class=\"dataframe\">\n",
       "  <thead>\n",
       "    <tr style=\"text-align: right;\">\n",
       "      <th></th>\n",
       "      <th>VendorID</th>\n",
       "      <th>tpep_pickup_datetime</th>\n",
       "      <th>tpep_dropoff_datetime</th>\n",
       "      <th>passenger_count</th>\n",
       "      <th>trip_distance</th>\n",
       "      <th>RatecodeID</th>\n",
       "      <th>store_and_fwd_flag</th>\n",
       "      <th>PULocationID</th>\n",
       "      <th>DOLocationID</th>\n",
       "      <th>payment_type</th>\n",
       "      <th>fare_amount</th>\n",
       "      <th>extra</th>\n",
       "      <th>mta_tax</th>\n",
       "      <th>tip_amount</th>\n",
       "      <th>tolls_amount</th>\n",
       "      <th>improvement_surcharge</th>\n",
       "      <th>total_amount</th>\n",
       "      <th>congestion_surcharge</th>\n",
       "      <th>airport_fee</th>\n",
       "    </tr>\n",
       "  </thead>\n",
       "  <tbody>\n",
       "    <tr>\n",
       "      <th>0</th>\n",
       "      <td>1</td>\n",
       "      <td>2021-04-01 00:00:18+00:00</td>\n",
       "      <td>2021-04-01 00:21:54+00:00</td>\n",
       "      <td>1.0</td>\n",
       "      <td>8.40</td>\n",
       "      <td>1.0</td>\n",
       "      <td>N</td>\n",
       "      <td>79</td>\n",
       "      <td>116</td>\n",
       "      <td>1</td>\n",
       "      <td>25.5</td>\n",
       "      <td>3.0</td>\n",
       "      <td>0.5</td>\n",
       "      <td>5.85</td>\n",
       "      <td>0.0</td>\n",
       "      <td>0.3</td>\n",
       "      <td>35.15</td>\n",
       "      <td>2.5</td>\n",
       "      <td>0.0</td>\n",
       "    </tr>\n",
       "    <tr>\n",
       "      <th>1</th>\n",
       "      <td>1</td>\n",
       "      <td>2021-04-01 00:42:37+00:00</td>\n",
       "      <td>2021-04-01 00:46:23+00:00</td>\n",
       "      <td>1.0</td>\n",
       "      <td>0.90</td>\n",
       "      <td>1.0</td>\n",
       "      <td>N</td>\n",
       "      <td>75</td>\n",
       "      <td>236</td>\n",
       "      <td>2</td>\n",
       "      <td>5.0</td>\n",
       "      <td>3.0</td>\n",
       "      <td>0.5</td>\n",
       "      <td>0.00</td>\n",
       "      <td>0.0</td>\n",
       "      <td>0.3</td>\n",
       "      <td>8.80</td>\n",
       "      <td>2.5</td>\n",
       "      <td>0.0</td>\n",
       "    </tr>\n",
       "    <tr>\n",
       "      <th>2</th>\n",
       "      <td>1</td>\n",
       "      <td>2021-04-01 00:57:56+00:00</td>\n",
       "      <td>2021-04-01 01:08:22+00:00</td>\n",
       "      <td>1.0</td>\n",
       "      <td>3.40</td>\n",
       "      <td>1.0</td>\n",
       "      <td>N</td>\n",
       "      <td>236</td>\n",
       "      <td>168</td>\n",
       "      <td>2</td>\n",
       "      <td>11.5</td>\n",
       "      <td>3.0</td>\n",
       "      <td>0.5</td>\n",
       "      <td>0.00</td>\n",
       "      <td>0.0</td>\n",
       "      <td>0.3</td>\n",
       "      <td>15.30</td>\n",
       "      <td>2.5</td>\n",
       "      <td>0.0</td>\n",
       "    </tr>\n",
       "    <tr>\n",
       "      <th>3</th>\n",
       "      <td>1</td>\n",
       "      <td>2021-04-01 00:01:58+00:00</td>\n",
       "      <td>2021-04-01 00:54:27+00:00</td>\n",
       "      <td>1.0</td>\n",
       "      <td>0.00</td>\n",
       "      <td>1.0</td>\n",
       "      <td>N</td>\n",
       "      <td>47</td>\n",
       "      <td>61</td>\n",
       "      <td>1</td>\n",
       "      <td>44.2</td>\n",
       "      <td>0.0</td>\n",
       "      <td>0.5</td>\n",
       "      <td>0.00</td>\n",
       "      <td>0.0</td>\n",
       "      <td>0.3</td>\n",
       "      <td>45.00</td>\n",
       "      <td>0.0</td>\n",
       "      <td>0.0</td>\n",
       "    </tr>\n",
       "    <tr>\n",
       "      <th>4</th>\n",
       "      <td>2</td>\n",
       "      <td>2021-04-01 00:24:55+00:00</td>\n",
       "      <td>2021-04-01 00:34:33+00:00</td>\n",
       "      <td>1.0</td>\n",
       "      <td>1.96</td>\n",
       "      <td>1.0</td>\n",
       "      <td>N</td>\n",
       "      <td>238</td>\n",
       "      <td>152</td>\n",
       "      <td>1</td>\n",
       "      <td>9.0</td>\n",
       "      <td>0.5</td>\n",
       "      <td>0.5</td>\n",
       "      <td>3.09</td>\n",
       "      <td>0.0</td>\n",
       "      <td>0.3</td>\n",
       "      <td>13.39</td>\n",
       "      <td>0.0</td>\n",
       "      <td>0.0</td>\n",
       "    </tr>\n",
       "  </tbody>\n",
       "</table>\n",
       "</div>"
      ],
      "text/plain": [
       "   VendorID      tpep_pickup_datetime     tpep_dropoff_datetime  \\\n",
       "0         1 2021-04-01 00:00:18+00:00 2021-04-01 00:21:54+00:00   \n",
       "1         1 2021-04-01 00:42:37+00:00 2021-04-01 00:46:23+00:00   \n",
       "2         1 2021-04-01 00:57:56+00:00 2021-04-01 01:08:22+00:00   \n",
       "3         1 2021-04-01 00:01:58+00:00 2021-04-01 00:54:27+00:00   \n",
       "4         2 2021-04-01 00:24:55+00:00 2021-04-01 00:34:33+00:00   \n",
       "\n",
       "   passenger_count  trip_distance  RatecodeID store_and_fwd_flag  \\\n",
       "0              1.0           8.40         1.0                  N   \n",
       "1              1.0           0.90         1.0                  N   \n",
       "2              1.0           3.40         1.0                  N   \n",
       "3              1.0           0.00         1.0                  N   \n",
       "4              1.0           1.96         1.0                  N   \n",
       "\n",
       "   PULocationID  DOLocationID  payment_type  fare_amount  extra  mta_tax  \\\n",
       "0            79           116             1         25.5    3.0      0.5   \n",
       "1            75           236             2          5.0    3.0      0.5   \n",
       "2           236           168             2         11.5    3.0      0.5   \n",
       "3            47            61             1         44.2    0.0      0.5   \n",
       "4           238           152             1          9.0    0.5      0.5   \n",
       "\n",
       "   tip_amount  tolls_amount  improvement_surcharge  total_amount  \\\n",
       "0        5.85           0.0                    0.3         35.15   \n",
       "1        0.00           0.0                    0.3          8.80   \n",
       "2        0.00           0.0                    0.3         15.30   \n",
       "3        0.00           0.0                    0.3         45.00   \n",
       "4        3.09           0.0                    0.3         13.39   \n",
       "\n",
       "   congestion_surcharge  airport_fee  \n",
       "0                   2.5          0.0  \n",
       "1                   2.5          0.0  \n",
       "2                   2.5          0.0  \n",
       "3                   0.0          0.0  \n",
       "4                   0.0          0.0  "
      ]
     },
     "execution_count": 22,
     "metadata": {},
     "output_type": "execute_result"
    }
   ],
   "source": [
    "df_duckdb_substrait = results.to_arrow_table().to_pandas()\n",
    "df_duckdb_substrait.head()"
   ]
  },
  {
   "cell_type": "code",
   "execution_count": 24,
   "id": "0a1ace42",
   "metadata": {},
   "outputs": [],
   "source": [
    "assert iceberg_df.equals(df_duckdb_substrait)"
   ]
  },
  {
   "cell_type": "markdown",
   "id": "77bede63",
   "metadata": {},
   "source": [
    "## Simulating Iceberg and Icetrait on Rename"
   ]
  },
  {
   "cell_type": "code",
   "execution_count": null,
   "id": "01e0a2fb",
   "metadata": {},
   "outputs": [],
   "source": []
  },
  {
   "cell_type": "markdown",
   "id": "cec06648",
   "metadata": {},
   "source": [
    "## Simulating Iceberg and Icetrait on Add"
   ]
  },
  {
   "cell_type": "code",
   "execution_count": null,
   "id": "c39906e6",
   "metadata": {},
   "outputs": [],
   "source": []
  },
  {
   "cell_type": "markdown",
   "id": "aba438bf",
   "metadata": {},
   "source": [
    "## Simulating Iceberg and Icetrait on Drop"
   ]
  },
  {
   "cell_type": "code",
   "execution_count": null,
   "id": "f91f8ac0",
   "metadata": {},
   "outputs": [],
   "source": []
  },
  {
   "cell_type": "markdown",
   "id": "92d1cf20",
   "metadata": {},
   "source": [
    "## Simulating Iceberg and Icetrait on Update"
   ]
  },
  {
   "cell_type": "code",
   "execution_count": null,
   "id": "17220bff",
   "metadata": {},
   "outputs": [],
   "source": []
  }
 ],
 "metadata": {
  "kernelspec": {
   "display_name": "Python 3 (ipykernel)",
   "language": "python",
   "name": "python3"
  },
  "language_info": {
   "codemirror_mode": {
    "name": "ipython",
    "version": 3
   },
   "file_extension": ".py",
   "mimetype": "text/x-python",
   "name": "python",
   "nbconvert_exporter": "python",
   "pygments_lexer": "ipython3",
   "version": "3.9.16"
  }
 },
 "nbformat": 4,
 "nbformat_minor": 5
}
