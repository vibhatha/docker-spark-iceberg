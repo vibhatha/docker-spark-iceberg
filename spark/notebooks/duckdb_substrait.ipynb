{
 "cells": [
  {
   "cell_type": "code",
   "execution_count": 1,
   "id": "d7cc7c81",
   "metadata": {},
   "outputs": [],
   "source": [
    "import duckdb\n",
    "\n",
    "con = duckdb.connect()\n",
    "con.install_extension(\"substrait\")\n",
    "con.load_extension(\"substrait\")"
   ]
  },
  {
   "cell_type": "code",
   "execution_count": 6,
   "id": "24fef634",
   "metadata": {},
   "outputs": [],
   "source": [
    "q_create = \"CREATE TABLE bids (id date,bid int,ask int, symbol text);\"\n",
    "q_insert = \"INSERT INTO bids VALUES ('2022-01-10', 3, 2, 'gold');\""
   ]
  },
  {
   "cell_type": "code",
   "execution_count": 8,
   "id": "e1d68b10",
   "metadata": {},
   "outputs": [
    {
     "data": {
      "text/plain": [
       "<duckdb.DuckDBPyConnection at 0x7f75f6fae870>"
      ]
     },
     "execution_count": 8,
     "metadata": {},
     "output_type": "execute_result"
    }
   ],
   "source": [
    "con.execute(query=\"DROP TABLE bids;\")"
   ]
  },
  {
   "cell_type": "code",
   "execution_count": 9,
   "id": "cdf42c93",
   "metadata": {},
   "outputs": [
    {
     "data": {
      "text/plain": [
       "<duckdb.DuckDBPyConnection at 0x7f75f6fae870>"
      ]
     },
     "execution_count": 9,
     "metadata": {},
     "output_type": "execute_result"
    }
   ],
   "source": [
    "con.execute(query=q_create)"
   ]
  },
  {
   "cell_type": "code",
   "execution_count": 10,
   "id": "12c5fad0",
   "metadata": {},
   "outputs": [
    {
     "data": {
      "text/plain": [
       "<duckdb.DuckDBPyConnection at 0x7f75f6fae870>"
      ]
     },
     "execution_count": 10,
     "metadata": {},
     "output_type": "execute_result"
    }
   ],
   "source": [
    "con.execute(query=q_insert)"
   ]
  },
  {
   "cell_type": "code",
   "execution_count": 11,
   "id": "a0f94f40",
   "metadata": {},
   "outputs": [],
   "source": [
    "q_select = \"SELECT id, bid, ask, symbol FROM bids;\""
   ]
  },
  {
   "cell_type": "code",
   "execution_count": 23,
   "id": "e3083008",
   "metadata": {},
   "outputs": [],
   "source": [
    "proto_bytes = con.get_substrait(query=q_select).fetchone()[0] "
   ]
  },
  {
   "cell_type": "code",
   "execution_count": 24,
   "id": "67b7bc3d",
   "metadata": {},
   "outputs": [
    {
     "data": {
      "text/plain": [
       "b'\\x1a\\xa5\\x01\\x12\\xa2\\x01\\n\\x89\\x01:\\x86\\x01\\x12V\\nT\\x126\\n\\x02id\\n\\x03bid\\n\\x03ask\\n\\x06symbol\\x12\\x1e\\n\\x05\\x82\\x01\\x02\\x10\\x01\\n\\x04*\\x02\\x10\\x01\\n\\x04*\\x02\\x10\\x01\\n\\x07\\xb2\\x01\\x04\\x08\\x04\\x18\\x01\\x18\\x02\"\\x12\\n\\x0e\\n\\x00\\n\\x02\\x08\\x01\\n\\x02\\x08\\x02\\n\\x02\\x08\\x03\\x10\\x01:\\x06\\n\\x04bids\\x1a\\x08\\x12\\x06\\n\\x02\\x12\\x00\"\\x00\\x1a\\n\\x12\\x08\\n\\x04\\x12\\x02\\x08\\x01\"\\x00\\x1a\\n\\x12\\x08\\n\\x04\\x12\\x02\\x08\\x02\"\\x00\\x1a\\n\\x12\\x08\\n\\x04\\x12\\x02\\x08\\x03\"\\x00\\x12\\x02id\\x12\\x03bid\\x12\\x03ask\\x12\\x06symbol'"
      ]
     },
     "execution_count": 24,
     "metadata": {},
     "output_type": "execute_result"
    }
   ],
   "source": [
    "proto_bytes"
   ]
  },
  {
   "cell_type": "code",
   "execution_count": 25,
   "id": "b802082a",
   "metadata": {},
   "outputs": [],
   "source": [
    "query_result = con.from_substrait(proto=proto_bytes)"
   ]
  },
  {
   "cell_type": "code",
   "execution_count": 27,
   "id": "b93549e1",
   "metadata": {},
   "outputs": [
    {
     "data": {
      "text/html": [
       "<div>\n",
       "<style scoped>\n",
       "    .dataframe tbody tr th:only-of-type {\n",
       "        vertical-align: middle;\n",
       "    }\n",
       "\n",
       "    .dataframe tbody tr th {\n",
       "        vertical-align: top;\n",
       "    }\n",
       "\n",
       "    .dataframe thead th {\n",
       "        text-align: right;\n",
       "    }\n",
       "</style>\n",
       "<table border=\"1\" class=\"dataframe\">\n",
       "  <thead>\n",
       "    <tr style=\"text-align: right;\">\n",
       "      <th></th>\n",
       "      <th>id</th>\n",
       "      <th>bid</th>\n",
       "      <th>ask</th>\n",
       "      <th>symbol</th>\n",
       "    </tr>\n",
       "  </thead>\n",
       "  <tbody>\n",
       "    <tr>\n",
       "      <th>0</th>\n",
       "      <td>2022-01-10</td>\n",
       "      <td>3</td>\n",
       "      <td>2</td>\n",
       "      <td>gold</td>\n",
       "    </tr>\n",
       "  </tbody>\n",
       "</table>\n",
       "</div>"
      ],
      "text/plain": [
       "          id  bid  ask symbol\n",
       "0 2022-01-10    3    2   gold"
      ]
     },
     "execution_count": 27,
     "metadata": {},
     "output_type": "execute_result"
    }
   ],
   "source": [
    "query_result.to_df()"
   ]
  },
  {
   "cell_type": "code",
   "execution_count": 31,
   "id": "7d5f2316",
   "metadata": {},
   "outputs": [],
   "source": [
    "proto_json = con.get_substrait_json(query=q_select).fetchone()[0] "
   ]
  },
  {
   "cell_type": "code",
   "execution_count": 32,
   "id": "c2703056",
   "metadata": {},
   "outputs": [
    {
     "data": {
      "text/plain": [
       "'{\"relations\":[{\"root\":{\"input\":{\"project\":{\"input\":{\"read\":{\"baseSchema\":{\"names\":[\"id\",\"bid\",\"ask\",\"symbol\"],\"struct\":{\"types\":[{\"date\":{\"nullability\":\"NULLABILITY_NULLABLE\"}},{\"i32\":{\"nullability\":\"NULLABILITY_NULLABLE\"}},{\"i32\":{\"nullability\":\"NULLABILITY_NULLABLE\"}},{\"varchar\":{\"length\":4,\"nullability\":\"NULLABILITY_NULLABLE\"}}],\"nullability\":\"NULLABILITY_REQUIRED\"}},\"projection\":{\"select\":{\"structItems\":[{},{\"field\":1},{\"field\":2},{\"field\":3}]},\"maintainSingularStruct\":true},\"namedTable\":{\"names\":[\"bids\"]}}},\"expressions\":[{\"selection\":{\"directReference\":{\"structField\":{}},\"rootReference\":{}}},{\"selection\":{\"directReference\":{\"structField\":{\"field\":1}},\"rootReference\":{}}},{\"selection\":{\"directReference\":{\"structField\":{\"field\":2}},\"rootReference\":{}}},{\"selection\":{\"directReference\":{\"structField\":{\"field\":3}},\"rootReference\":{}}}]}},\"names\":[\"id\",\"bid\",\"ask\",\"symbol\"]}}]}'"
      ]
     },
     "execution_count": 32,
     "metadata": {},
     "output_type": "execute_result"
    }
   ],
   "source": [
    "proto_json"
   ]
  },
  {
   "cell_type": "code",
   "execution_count": null,
   "id": "eaf1a64a",
   "metadata": {},
   "outputs": [],
   "source": []
  }
 ],
 "metadata": {
  "kernelspec": {
   "display_name": "Python 3 (ipykernel)",
   "language": "python",
   "name": "python3"
  },
  "language_info": {
   "codemirror_mode": {
    "name": "ipython",
    "version": 3
   },
   "file_extension": ".py",
   "mimetype": "text/x-python",
   "name": "python",
   "nbconvert_exporter": "python",
   "pygments_lexer": "ipython3",
   "version": "3.9.16"
  }
 },
 "nbformat": 4,
 "nbformat_minor": 5
}
