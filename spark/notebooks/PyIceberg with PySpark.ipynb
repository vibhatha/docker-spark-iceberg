{
 "cells": [
  {
   "cell_type": "code",
   "execution_count": 144,
   "id": "11205cfa",
   "metadata": {},
   "outputs": [
    {
     "name": "stdout",
     "output_type": "stream",
     "text": [
      "23/04/23 05:10:34 WARN SparkSession: Using an existing Spark session; only runtime SQL configurations will take effect.\n"
     ]
    }
   ],
   "source": [
    "import findspark\n",
    "findspark.init()\n",
    "\n",
    "from pyspark.sql import SparkSession\n",
    "\n",
    "spark = (\n",
    "    SparkSession.builder.master(\"local\")\n",
    "    .appName(\"IcebergPySpark\")\n",
    "    .config(\"spark.jars\", \"/home/asus/Downloads/iceberg-spark-runtime-3.2_2.12-1.2.0.jar\")\n",
    "    .config(\"spark.sql.extensions\", \"org.apache.iceberg.spark.extensions.IcebergSparkSessionExtensions\")\n",
    "    .config(\"spark.sql.catalog.demo\", \"org.apache.iceberg.spark.SparkCatalog\")\n",
    "    .config(\"spark.sql.catalog.demo.catalog-impl\", \"org.apache.iceberg.rest.RESTCatalog\")\n",
    "    .config(\"spark.sql.catalog.demo.uri\", \"http://rest:8181\")\n",
    "    .config(\"spark.sql.catalog.demo.warehouse\", \"s3a://warehouse/wh/\")\n",
    "    .config(\"spark.sql.catalog.demo.s3.endpoint\", \"http://minio:9000\")\n",
    "    .config(\"spark.sql.defaultCatalog\", \"demo\")\n",
    "    .config(\"spark.eventLog.enabled\", \"true\")\n",
    "    .config(\"spark.eventLog.dir\", \"/home/iceberg/spark-events\")\n",
    "    .config(\"spark.history.fs.logDirectory\", \"/home/iceberg/spark-events\")\n",
    "    .config(\"spark.sql.catalogImplementation\", \"/home/iceberg/spark-events\")\n",
    "    .getOrCreate()\n",
    ")"
   ]
  },
  {
   "cell_type": "code",
   "execution_count": 145,
   "id": "e870a8e3",
   "metadata": {},
   "outputs": [
    {
     "data": {
      "text/plain": [
       "'default'"
      ]
     },
     "execution_count": 145,
     "metadata": {},
     "output_type": "execute_result"
    }
   ],
   "source": [
    "spark.catalog.currentDatabase()"
   ]
  },
  {
   "cell_type": "code",
   "execution_count": 146,
   "id": "a8b774ff",
   "metadata": {},
   "outputs": [
    {
     "data": {
      "text/plain": [
       "[Database(name='default', description='default database', locationUri='file:/home/iceberg/notebooks/spark-warehouse')]"
      ]
     },
     "execution_count": 146,
     "metadata": {},
     "output_type": "execute_result"
    }
   ],
   "source": [
    "spark.catalog.listDatabases()"
   ]
  },
  {
   "cell_type": "code",
   "execution_count": 147,
   "id": "7f7cd272",
   "metadata": {},
   "outputs": [
    {
     "data": {
      "text/plain": [
       "[Table(name='iceberg_pyspark_example', database='default', description=None, tableType='MANAGED', isTemporary=False)]"
      ]
     },
     "execution_count": 147,
     "metadata": {},
     "output_type": "execute_result"
    }
   ],
   "source": [
    "spark.catalog.listTables()"
   ]
  },
  {
   "cell_type": "code",
   "execution_count": 105,
   "id": "932cdb97",
   "metadata": {},
   "outputs": [
    {
     "data": {
      "text/plain": [
       "<pyiceberg.catalog.rest.RestCatalog at 0x7fe08e2b3c10>"
      ]
     },
     "execution_count": 105,
     "metadata": {},
     "output_type": "execute_result"
    }
   ],
   "source": [
    "from pyiceberg.catalog import load_catalog\n",
    "from pyiceberg.expressions import GreaterThanOrEqual\n",
    "\n",
    "iceberg_catalog = load_catalog('default')\n",
    "iceberg_catalog"
   ]
  },
  {
   "cell_type": "code",
   "execution_count": 148,
   "id": "0f60981b",
   "metadata": {},
   "outputs": [
    {
     "data": {
      "text/plain": [
       "[('default',), ('nyc',), ('sample',)]"
      ]
     },
     "execution_count": 148,
     "metadata": {},
     "output_type": "execute_result"
    }
   ],
   "source": [
    "iceberg_catalog.list_namespaces()"
   ]
  },
  {
   "cell_type": "code",
   "execution_count": 149,
   "id": "d283d5cf",
   "metadata": {},
   "outputs": [],
   "source": [
    "iceberg_catalog.create_namespace(\"substrait\")"
   ]
  },
  {
   "cell_type": "code",
   "execution_count": 150,
   "id": "e8a129c5",
   "metadata": {},
   "outputs": [
    {
     "data": {
      "text/plain": [
       "[('default',), ('nyc',), ('sample',), ('substrait',)]"
      ]
     },
     "execution_count": 150,
     "metadata": {},
     "output_type": "execute_result"
    }
   ],
   "source": [
    "iceberg_catalog.list_namespaces()"
   ]
  },
  {
   "cell_type": "code",
   "execution_count": 151,
   "id": "ebbc5423",
   "metadata": {},
   "outputs": [],
   "source": [
    "nyc_taxi_table = catalog.load_table((\"nyc\", \"taxis\"))"
   ]
  },
  {
   "cell_type": "code",
   "execution_count": 152,
   "id": "e71b881a",
   "metadata": {},
   "outputs": [
    {
     "data": {
      "text/plain": [
       "'s3://warehouse/nyc/taxis'"
      ]
     },
     "execution_count": 152,
     "metadata": {},
     "output_type": "execute_result"
    }
   ],
   "source": [
    "nyc_taxi_table.location()"
   ]
  },
  {
   "cell_type": "code",
   "execution_count": 153,
   "id": "f75169e5",
   "metadata": {},
   "outputs": [
    {
     "data": {
      "text/plain": [
       "<pyiceberg.table.Table at 0x7fe089771b50>"
      ]
     },
     "execution_count": 153,
     "metadata": {},
     "output_type": "execute_result"
    }
   ],
   "source": [
    "from pyiceberg.catalog import load_catalog\n",
    "from pyiceberg.schema import Schema\n",
    "from pyiceberg.types import TimestampType, DoubleType, StringType, NestedField\n",
    "\n",
    "schema = Schema(\n",
    "    NestedField(\n",
    "        field_id=1, name=\"id\", field_type=TimestampType(), required=False\n",
    "    ),\n",
    "    NestedField(field_id=2, name=\"bid\", field_type=DoubleType(), required=False),\n",
    "    NestedField(field_id=3, name=\"ask\", field_type=DoubleType(), required=False),\n",
    "    NestedField(field_id=4, name=\"symbol\", field_type=StringType(), required=False),\n",
    ")\n",
    "\n",
    "from pyiceberg.partitioning import PartitionSpec, PartitionField\n",
    "from pyiceberg.transforms import DayTransform\n",
    "\n",
    "partition_spec = PartitionSpec(\n",
    "    PartitionField(\n",
    "        source_id=1, field_id=1000, transform=DayTransform(), name=\"datetime_day\"\n",
    "    )\n",
    ")\n",
    "\n",
    "from pyiceberg.table.sorting import SortOrder, SortField\n",
    "from pyiceberg.transforms import IdentityTransform\n",
    "\n",
    "sort_order = SortOrder(SortField(source_id=4, transform=IdentityTransform()))\n",
    "\n",
    "iceberg_catalog = load_catalog(\"default\")\n",
    "\n",
    "iceberg_catalog.create_table(\n",
    "    identifier=\"default.substrait.bids\",\n",
    "    location=\"s3://warehouse/sample/mytable\",\n",
    "    schema=schema,\n",
    "    partition_spec=partition_spec,\n",
    "    sort_order=sort_order,\n",
    ")"
   ]
  },
  {
   "cell_type": "code",
   "execution_count": 154,
   "id": "666388f3",
   "metadata": {},
   "outputs": [
    {
     "data": {
      "text/plain": [
       "[('default',), ('nyc',), ('sample',), ('substrait',)]"
      ]
     },
     "execution_count": 154,
     "metadata": {},
     "output_type": "execute_result"
    }
   ],
   "source": [
    "iceberg_catalog.list_namespaces()"
   ]
  },
  {
   "cell_type": "code",
   "execution_count": 155,
   "id": "7e3da82b",
   "metadata": {},
   "outputs": [],
   "source": [
    "import datetime"
   ]
  },
  {
   "cell_type": "code",
   "execution_count": 156,
   "id": "e4c2d306",
   "metadata": {},
   "outputs": [],
   "source": [
    "from pyiceberg.schema import Schema\n",
    "from pyiceberg.types import TimestampType, DoubleType, StringType, NestedField\n",
    "\n",
    "iceberg_table_name = \"default.substrait.bids\"\n",
    "#spark.catalog.createTable(iceberg_table_name, schema=schema)\n",
    "\n",
    "write_schema = [\"id\", \"bid\", \"ask\", \"symbol\"]\n",
    "\n",
    "\n",
    "df = spark.createDataFrame([(datetime.datetime(2020, 5, 17), 10.2, 10.3, \"gold\")], write_schema)\n",
    "df.write.option(\"format\", \"iceberg\").mode(\"overwrite\").saveAsTable(iceberg_table_name)"
   ]
  },
  {
   "cell_type": "code",
   "execution_count": 157,
   "id": "c63da66b",
   "metadata": {},
   "outputs": [
    {
     "data": {
      "text/html": [
       "<div>\n",
       "<style scoped>\n",
       "    .dataframe tbody tr th:only-of-type {\n",
       "        vertical-align: middle;\n",
       "    }\n",
       "\n",
       "    .dataframe tbody tr th {\n",
       "        vertical-align: top;\n",
       "    }\n",
       "\n",
       "    .dataframe thead th {\n",
       "        text-align: right;\n",
       "    }\n",
       "</style>\n",
       "<table border=\"1\" class=\"dataframe\">\n",
       "  <thead>\n",
       "    <tr style=\"text-align: right;\">\n",
       "      <th></th>\n",
       "      <th>id</th>\n",
       "      <th>bid</th>\n",
       "      <th>ask</th>\n",
       "      <th>symbol</th>\n",
       "    </tr>\n",
       "  </thead>\n",
       "  <tbody>\n",
       "    <tr>\n",
       "      <th>0</th>\n",
       "      <td>2020-05-17 00:00:00+00:00</td>\n",
       "      <td>10.2</td>\n",
       "      <td>10.3</td>\n",
       "      <td>gold</td>\n",
       "    </tr>\n",
       "  </tbody>\n",
       "</table>\n",
       "</div>"
      ],
      "text/plain": [
       "                         id   bid   ask symbol\n",
       "0 2020-05-17 00:00:00+00:00  10.2  10.3   gold"
      ]
     },
     "execution_count": 157,
     "metadata": {},
     "output_type": "execute_result"
    }
   ],
   "source": [
    "tbl = iceberg_catalog.load_table('default.substrait.bids')\n",
    "sc = tbl.scan()\n",
    "df = sc.to_arrow().to_pandas()\n",
    "df"
   ]
  },
  {
   "cell_type": "code",
   "execution_count": 158,
   "id": "9810f771",
   "metadata": {},
   "outputs": [
    {
     "data": {
      "text/plain": [
       "[('default',), ('nyc',), ('sample',), ('substrait',)]"
      ]
     },
     "execution_count": 158,
     "metadata": {},
     "output_type": "execute_result"
    }
   ],
   "source": [
    "iceberg_catalog.list_namespaces()"
   ]
  },
  {
   "cell_type": "code",
   "execution_count": 159,
   "id": "b262f796",
   "metadata": {},
   "outputs": [],
   "source": [
    "iceberg_catalog.drop_namespace('substrait')"
   ]
  },
  {
   "cell_type": "code",
   "execution_count": 160,
   "id": "ee539c1a",
   "metadata": {},
   "outputs": [
    {
     "data": {
      "text/plain": [
       "[('default',), ('nyc',), ('sample',)]"
      ]
     },
     "execution_count": 160,
     "metadata": {},
     "output_type": "execute_result"
    }
   ],
   "source": [
    "iceberg_catalog.list_namespaces()"
   ]
  },
  {
   "cell_type": "code",
   "execution_count": 161,
   "id": "f8d62256",
   "metadata": {},
   "outputs": [],
   "source": [
    "iceberg_catalog.drop_table(\"default.substrait.bids\")"
   ]
  },
  {
   "cell_type": "code",
   "execution_count": null,
   "id": "f6cbe52f",
   "metadata": {},
   "outputs": [],
   "source": []
  },
  {
   "cell_type": "code",
   "execution_count": null,
   "id": "3e8518d1",
   "metadata": {},
   "outputs": [],
   "source": []
  }
 ],
 "metadata": {
  "kernelspec": {
   "display_name": "Python 3 (ipykernel)",
   "language": "python",
   "name": "python3"
  },
  "language_info": {
   "codemirror_mode": {
    "name": "ipython",
    "version": 3
   },
   "file_extension": ".py",
   "mimetype": "text/x-python",
   "name": "python",
   "nbconvert_exporter": "python",
   "pygments_lexer": "ipython3",
   "version": "3.9.16"
  }
 },
 "nbformat": 4,
 "nbformat_minor": 5
}
